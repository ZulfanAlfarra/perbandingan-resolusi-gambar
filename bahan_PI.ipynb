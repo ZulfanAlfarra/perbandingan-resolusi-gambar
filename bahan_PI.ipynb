{
  "cells": [
    {
      "cell_type": "markdown",
      "metadata": {
        "id": "view-in-github",
        "colab_type": "text"
      },
      "source": [
        "<a href=\"https://colab.research.google.com/github/ZulfanAlfarra/perbandingan-resolusi-gambar/blob/main/bahan_PI.ipynb\" target=\"_parent\"><img src=\"https://colab.research.google.com/assets/colab-badge.svg\" alt=\"Open In Colab\"/></a>"
      ]
    },
    {
      "cell_type": "code",
      "execution_count": null,
      "metadata": {
        "id": "xjPFg97DBVzw",
        "colab": {
          "base_uri": "https://localhost:8080/"
        },
        "outputId": "e9ede913-8e4a-44fa-d40a-de839c92cfbb"
      },
      "outputs": [
        {
          "output_type": "stream",
          "name": "stdout",
          "text": [
            "Collecting torchinfo\n",
            "\u001b[33m  WARNING: Retrying (Retry(total=4, connect=None, read=None, redirect=None, status=None)) after connection broken by 'ConnectTimeoutError(<pip._vendor.urllib3.connection.HTTPSConnection object at 0x781e5a50bdc0>, 'Connection to files.pythonhosted.org timed out. (connect timeout=15)')': /packages/72/25/973bd6128381951b23cdcd8a9870c6dcfc5606cb864df8eabd82e529f9c1/torchinfo-1.8.0-py3-none-any.whl.metadata\u001b[0m\u001b[33m\n",
            "\u001b[0m  Downloading torchinfo-1.8.0-py3-none-any.whl.metadata (21 kB)\n",
            "Downloading torchinfo-1.8.0-py3-none-any.whl (23 kB)\n",
            "Installing collected packages: torchinfo\n",
            "Successfully installed torchinfo-1.8.0\n"
          ]
        }
      ],
      "source": [
        "import numpy as np\n",
        "import pandas as pd\n",
        "import matplotlib.pyplot as plt\n",
        "import os\n",
        "from pathlib import Path\n",
        "import zipfile\n",
        "\n",
        "import torch\n",
        "from torch import nn\n",
        "from torch.utils.data import DataLoader\n",
        "from torchvision import datasets, transforms\n",
        "\n",
        "try:\n",
        "    import torchinfo\n",
        "except:\n",
        "    !pip install torchinfo\n",
        "    import torchinfo\n",
        "\n",
        "from tqdm.auto import tqdm\n",
        "from typing import Tuple, List, Dict\n",
        "from timeit import default_timer as timer"
      ]
    },
    {
      "cell_type": "code",
      "execution_count": null,
      "metadata": {
        "id": "mbj0txR3B2rP"
      },
      "outputs": [],
      "source": [
        "# ! kaggle datasets download limitmax14/sampah"
      ]
    },
    {
      "cell_type": "code",
      "execution_count": null,
      "metadata": {
        "id": "lLvxHYE8FKRj"
      },
      "outputs": [],
      "source": [
        "# data_path = Path(\"data\")\n",
        "# image_path = data_path / \"sampah\"\n",
        "\n",
        "# with zipfile.ZipFile(\"sampah.zip\", \"r\") as zip_ref:\n",
        "#   print(\"Unziping file...\")\n",
        "#   zip_ref.extractall(image_path)\n",
        "\n",
        "# os.remove(\"sampah.zip\")"
      ]
    },
    {
      "cell_type": "code",
      "execution_count": null,
      "metadata": {
        "id": "ULTpQagPGvlP"
      },
      "outputs": [],
      "source": [
        "# train_dir = image_path / \"Data\" / \"Train\"\n",
        "# test_dir = image_path / \"Data\" / \"Test\"\n",
        "\n",
        "# train_dir, test_dir"
      ]
    },
    {
      "cell_type": "code",
      "source": [
        "! kaggle datasets download quangtheng/garbage-classification-6-classes-775class"
      ],
      "metadata": {
        "colab": {
          "base_uri": "https://localhost:8080/"
        },
        "id": "MhRh9sO7E0Tx",
        "outputId": "11186727-3478-4c2f-dffc-ec94e422ef1e"
      },
      "execution_count": null,
      "outputs": [
        {
          "output_type": "stream",
          "name": "stdout",
          "text": [
            "Dataset URL: https://www.kaggle.com/datasets/quangtheng/garbage-classification-6-classes-775class\n",
            "License(s): apache-2.0\n",
            "Downloading garbage-classification-6-classes-775class.zip to /content\n",
            " 96% 48.0M/50.2M [00:05<00:00, 13.2MB/s]\n",
            "100% 50.2M/50.2M [00:05<00:00, 9.46MB/s]\n"
          ]
        }
      ]
    },
    {
      "cell_type": "code",
      "source": [
        "from sklearn.model_selection import train_test_split\n",
        "import shutil\n",
        "\n",
        "data_path_2 = Path(\"data2\")\n",
        "data_dir = data_path_2 / \"sampah-classfication\"\n",
        "\n",
        "with zipfile.ZipFile(\"garbage-classification-6-classes-775class.zip\", \"r\") as f:\n",
        "  f.extractall(data_dir)\n",
        "\n",
        "\n",
        "train_dir_2 = data_path_2 / \"train\"\n",
        "test_dir_2 = data_path_2 / \"test\"\n",
        "\n",
        "train_dir_2.mkdir(parents=True, exist_ok=True)\n",
        "test_dir_2.mkdir(parents=True, exist_ok=True)\n",
        "\n",
        "# Ambil semua kelas (nama subfolder)\n",
        "classes = [item for item in data_dir.iterdir() if item.is_dir()]\n",
        "\n",
        "# Iterasi melalui setiap kelas\n",
        "for class_path in classes:\n",
        "    class_name = class_path.name\n",
        "\n",
        "    # Ambil semua file dalam folder kelas\n",
        "    files = list(class_path.iterdir())\n",
        "\n",
        "    # Jika tidak ada file, skip kelas ini\n",
        "    if len(files) == 0:\n",
        "        print(f\"Skipping empty class folder: {class_name}\")\n",
        "        continue\n",
        "\n",
        "    # Split files into train and test (80% train, 20% test)\n",
        "    train_files, test_files = train_test_split(files, test_size=0.2, random_state=42)\n",
        "\n",
        "    # Buat folder kelas di train dan test\n",
        "    class_train_dir = train_dir_2 / class_name\n",
        "    class_test_dir = test_dir_2 / class_name\n",
        "    class_train_dir.mkdir(parents=True, exist_ok=True)\n",
        "    class_test_dir.mkdir(parents=True, exist_ok=True)\n",
        "\n",
        "    # Pindahkan file ke folder train\n",
        "    for file_path in train_files:\n",
        "        shutil.move(str(file_path), str(class_train_dir / file_path.name))\n",
        "\n",
        "    # Pindahkan file ke folder test\n",
        "    for file_path in test_files:\n",
        "        shutil.move(str(file_path), str(class_test_dir / file_path.name))\n",
        "\n",
        "shutil.rmtree(data_dir)"
      ],
      "metadata": {
        "id": "BEhDEmS0B398"
      },
      "execution_count": null,
      "outputs": []
    },
    {
      "cell_type": "code",
      "execution_count": null,
      "metadata": {
        "id": "zj8iPHUSMzj5"
      },
      "outputs": [],
      "source": [
        "def create_transforms(w: int, h: int):\n",
        "  \"\"\"Creating train and test transforms\n",
        "\n",
        "  args:\n",
        "    w: Width for size of image\n",
        "    h: Height for size of image\n",
        "\n",
        "  returns:\n",
        "    A tupple of (with_augmented_transform, simple_transform)\n",
        "  \"\"\"\n",
        "  with_augmented_transform = transforms.Compose([\n",
        "      transforms.Resize((w, h)),\n",
        "      transforms.RandomHorizontalFlip(p=0.5),\n",
        "      transforms.RandomRotation(15),\n",
        "      transforms.ColorJitter(brightness=0.2, contrast=0.2, saturation=0.2, hue=0.1),\n",
        "      transforms.ToTensor(),\n",
        "      transforms.Normalize(mean=[0.485, 0.456, 0.406],\n",
        "                           std=[0.229, 0.224, 0.225])\n",
        "  ])\n",
        "\n",
        "  simple_transform = transforms.Compose([\n",
        "      transforms.Resize((w, h)),\n",
        "      transforms.ToTensor(),\n",
        "      transforms.Normalize(mean=[0.485, 0.456, 0.406],\n",
        "                           std=[0.229, 0.224, 0.225])\n",
        "  ])\n",
        "\n",
        "  return with_augmented_transform, simple_transform"
      ]
    },
    {
      "cell_type": "code",
      "execution_count": null,
      "metadata": {
        "id": "UDg9uwDIO6E6"
      },
      "outputs": [],
      "source": [
        "def create_dataloader(train_dir: str,\n",
        "                      test_dir: str,\n",
        "                      train_transform: transforms.Compose,\n",
        "                      test_transform: transforms.Compose,\n",
        "                      batch_size: int,\n",
        "                      num_workers: int):\n",
        "  \"\"\"Create training and testing DataLoader\n",
        "\n",
        "    Takes in a training and testing directory path and turns them into PyTorch Datasets and then into PyTorch DataLoaders\n",
        "\n",
        "    args:\n",
        "        train_dir: Path to training directory.\n",
        "        test_dir: Path to testing directory.\n",
        "        train_transform: torchvision transforms to perform on training data\n",
        "        test_transform: torchvision transforms to perform on esting data\n",
        "        batch_size: Number of sample per batch in each of the dataloaders\n",
        "        num_workers: An integer fro number of workers per DataLoader.\n",
        "\n",
        "    returns:\n",
        "      A tupple of (train_dataloader, test_dataloader, class_names)\n",
        "  \"\"\"\n",
        "\n",
        "  train_data = datasets.ImageFolder(train_dir, train_transform)\n",
        "  test_data = datasets.ImageFolder(test_dir, test_transform)\n",
        "\n",
        "  train_dataloader = DataLoader(train_data,\n",
        "                                batch_size=batch_size,\n",
        "                                shuffle=True,\n",
        "                                num_workers=num_workers,\n",
        "                                drop_last=True)\n",
        "  test_dataloader = DataLoader(test_data,\n",
        "                               batch_size=batch_size,\n",
        "                               shuffle=False,\n",
        "                               num_workers=num_workers,\n",
        "                               drop_last=True)\n",
        "  class_names = train_data.classes\n",
        "\n",
        "  return train_dataloader, test_dataloader, class_names"
      ]
    },
    {
      "cell_type": "code",
      "execution_count": null,
      "metadata": {
        "id": "6XmXSoE0SnZe",
        "outputId": "a5a29a0f-f004-47d4-eb7c-88b97b7e277d",
        "colab": {
          "base_uri": "https://localhost:8080/",
          "height": 35
        }
      },
      "outputs": [
        {
          "output_type": "execute_result",
          "data": {
            "text/plain": [
              "'cuda'"
            ],
            "application/vnd.google.colaboratory.intrinsic+json": {
              "type": "string"
            }
          },
          "metadata": {},
          "execution_count": 9
        }
      ],
      "source": [
        "NUM_WORKERS = os.cpu_count()\n",
        "BATCH_SIZE = 32\n",
        "device = \"cuda\" if torch.cuda.is_available() else \"cpu\"\n",
        "device"
      ]
    },
    {
      "cell_type": "markdown",
      "metadata": {
        "id": "T3v1m0DKgVVs"
      },
      "source": [
        "# Model Builder\n"
      ]
    },
    {
      "cell_type": "code",
      "execution_count": null,
      "metadata": {
        "id": "_EIZrQSogYHc"
      },
      "outputs": [],
      "source": [
        "class CNN_model(nn.Module):\n",
        "  \"\"\"\n",
        "  Args:\n",
        "    input_shape: An integer indicationg number of input channels\n",
        "    initial_hidden_units: An integer indicationg of initial hidden units between layers\n",
        "    output_shape: An integer indicating number of output units\n",
        "  \"\"\"\n",
        "  def __init__(self, input_shape:int, initial_hidden_units: int, output_shape) -> None:\n",
        "     super().__init__()\n",
        "     self.conv_block = nn.Sequential(\n",
        "         nn.Conv2d(in_channels=input_shape, out_channels=initial_hidden_units, kernel_size=3),\n",
        "         nn.ReLU(),\n",
        "         nn.MaxPool2d(2,2),\n",
        "         nn.Conv2d(initial_hidden_units, initial_hidden_units*2, kernel_size=3),\n",
        "         nn.ReLU(),\n",
        "         nn.MaxPool2d(2,2),\n",
        "         nn.Conv2d(initial_hidden_units*2, initial_hidden_units*4, kernel_size=3),\n",
        "         nn.ReLU(),\n",
        "         nn.MaxPool2d(2,2),\n",
        "         nn.Conv2d(initial_hidden_units*4, initial_hidden_units*8, kernel_size=3),\n",
        "         nn.ReLU(),\n",
        "         nn.MaxPool2d(2,2)\n",
        "     )\n",
        "\n",
        "\n",
        "     self.classifier = None\n",
        "     self.output_shape = output_shape\n",
        "\n",
        "  def forward(self, x):\n",
        "    x = self.conv_block(x)\n",
        "\n",
        "    if self.classifier is None:\n",
        "      flattened_size = x.view(x.size(0), -1).size(1)  # Calculate in_features dynamically\n",
        "      print(x.view(x.size(0), -1).size(1))\n",
        "      self.classifier = nn.Sequential(\n",
        "          nn.Flatten(),\n",
        "          nn.Linear(in_features=flattened_size, out_features=self.output_shape)\n",
        "        ).to(x.device)\n",
        "\n",
        "    x = self.classifier(x)\n",
        "    return x"
      ]
    },
    {
      "cell_type": "code",
      "execution_count": null,
      "metadata": {
        "colab": {
          "base_uri": "https://localhost:8080/"
        },
        "id": "jpfH2D4MrTLe",
        "outputId": "f50c1ad0-6e21-4748-afa6-6404b389d7c1"
      },
      "outputs": [
        {
          "output_type": "stream",
          "name": "stdout",
          "text": [
            "256\n"
          ]
        },
        {
          "output_type": "execute_result",
          "data": {
            "text/plain": [
              "==========================================================================================\n",
              "Layer (type:depth-idx)                   Output Shape              Param #\n",
              "==========================================================================================\n",
              "CNN_model                                [1, 3]                    --\n",
              "├─Sequential: 1-1                        [1, 64, 2, 2]             --\n",
              "│    └─Conv2d: 2-1                       [1, 8, 62, 62]            224\n",
              "│    └─ReLU: 2-2                         [1, 8, 62, 62]            --\n",
              "│    └─MaxPool2d: 2-3                    [1, 8, 31, 31]            --\n",
              "│    └─Conv2d: 2-4                       [1, 16, 29, 29]           1,168\n",
              "│    └─ReLU: 2-5                         [1, 16, 29, 29]           --\n",
              "│    └─MaxPool2d: 2-6                    [1, 16, 14, 14]           --\n",
              "│    └─Conv2d: 2-7                       [1, 32, 12, 12]           4,640\n",
              "│    └─ReLU: 2-8                         [1, 32, 12, 12]           --\n",
              "│    └─MaxPool2d: 2-9                    [1, 32, 6, 6]             --\n",
              "│    └─Conv2d: 2-10                      [1, 64, 4, 4]             18,496\n",
              "│    └─ReLU: 2-11                        [1, 64, 4, 4]             --\n",
              "│    └─MaxPool2d: 2-12                   [1, 64, 2, 2]             --\n",
              "==========================================================================================\n",
              "Total params: 24,528\n",
              "Trainable params: 24,528\n",
              "Non-trainable params: 0\n",
              "Total mult-adds (M): 2.81\n",
              "==========================================================================================\n",
              "Input size (MB): 0.05\n",
              "Forward/backward pass size (MB): 0.40\n",
              "Params size (MB): 0.10\n",
              "Estimated Total Size (MB): 0.55\n",
              "=========================================================================================="
            ]
          },
          "metadata": {},
          "execution_count": 11
        }
      ],
      "source": [
        "model_0 = CNN_model(input_shape=3, initial_hidden_units=8, output_shape=3).to(device)\n",
        "\n",
        "torchinfo.summary(model_0, input_size=[1, 3, 64, 64])"
      ]
    },
    {
      "cell_type": "markdown",
      "metadata": {
        "id": "LAqqc9CHIdFc"
      },
      "source": [
        "## Engine\n",
        "\n",
        "Contains functions for training and testing a PyTorch model"
      ]
    },
    {
      "cell_type": "code",
      "execution_count": null,
      "metadata": {
        "id": "5uqck1YDIXz5"
      },
      "outputs": [],
      "source": [
        "def train_step(model: torch.nn.Module,\n",
        "               dataloader: torch.utils.data.DataLoader,\n",
        "               loss_fn: torch.nn.Module,\n",
        "               optimizer: torch.optim.Optimizer,\n",
        "               device: torch.device) -> Tuple[float, float]:\n",
        "               \"\"\"\n",
        "               Args:\n",
        "                model: A PyTorch model to be trained\n",
        "                dataloader: A DataLoader instance for the model to be trained on.\n",
        "                loss_fn: A PyTorch loss function to minimize\n",
        "                optimizer: A Pytorch optimzier to help minimize the loss function\n",
        "                deevice: A target device to compute on.\n",
        "\n",
        "              Returns:\n",
        "                A tuple of training loss and training accuracy metrics.\n",
        "                In the form (train_loss, train_accuracy). For example:\n",
        "\n",
        "                (0.1112, 0.8743)\n",
        "               \"\"\"\n",
        "               model.train()\n",
        "\n",
        "               train_loss, train_acc = 0, 0\n",
        "\n",
        "               for batch, (X, y) in enumerate(dataloader):\n",
        "                X, y = X.to(device), y.to(device)\n",
        "\n",
        "\n",
        "                y_pred = model(X)\n",
        "\n",
        "                loss = loss_fn(y_pred, y)\n",
        "                train_loss += loss.item()\n",
        "\n",
        "                optimizer.zero_grad()\n",
        "\n",
        "                loss.backward()\n",
        "\n",
        "                optimizer.step()\n",
        "\n",
        "                y_pred_class = torch.argmax(torch.softmax(y_pred, dim=1), dim=1)\n",
        "                train_acc += (y_pred_class==y).sum().item() / len(y_pred)\n",
        "\n",
        "               train_loss /= len(dataloader)\n",
        "               train_acc /= len(dataloader)\n",
        "               return train_loss, train_acc\n",
        "\n",
        "def test_step(model: torch.nn.Module,\n",
        "              dataloader: torch.utils.data.DataLoader,\n",
        "              loss_fn: torch.nn.Module,\n",
        "              device: torch.device) -> Tuple[float, float]:\n",
        "\n",
        "              \"\"\"\n",
        "              Returns:\n",
        "                  A tuple of testing loss and testing accuracy metrics.\n",
        "                  In the form (test_loss, test_accuracy). For example:\n",
        "\n",
        "                  (0.0223, 0.8985)\n",
        "              \"\"\"\n",
        "\n",
        "              model.eval()\n",
        "\n",
        "              test_loss, test_acc = 0, 0\n",
        "\n",
        "              with torch.inference_mode():\n",
        "                for batch, (X, y) in enumerate(dataloader):\n",
        "                  X, y = X.to(device), y.to(device)\n",
        "\n",
        "                  test_pred = model(X)\n",
        "\n",
        "                  loss = loss_fn(test_pred, y)\n",
        "                  test_loss += loss.item()\n",
        "\n",
        "                  test_pred_label = test_pred.argmax(dim=1)\n",
        "                  test_acc += (test_pred_label==y).sum().item() / len(test_pred_label)\n",
        "\n",
        "              test_loss /= len(dataloader)\n",
        "              test_acc /= len(dataloader)\n",
        "              return test_loss, test_acc\n",
        "\n",
        "def train(model: torch.nn.Module,\n",
        "          train_dataloader: torch.utils.data.DataLoader,\n",
        "          test_dataloader: torch.utils.data.DataLoader,\n",
        "          loss_fn: torch.nn.Module,\n",
        "          optimizer: torch.optim.Optimizer,\n",
        "          epochs: int,\n",
        "          device: torch.device):\n",
        "  results = {\"train_loss\": [],\n",
        "             \"train_acc\": [],\n",
        "             \"test_loss\": [],\n",
        "             \"test_acc\": []}\n",
        "\n",
        "  for epoch in tqdm(range(1, epochs+1)):\n",
        "    train_loss, train_acc = train_step(model= model,\n",
        "                                      dataloader=train_dataloader,\n",
        "                                      loss_fn=loss_fn,\n",
        "                                      optimizer= optimizer,\n",
        "                                      device= device)\n",
        "    test_loss, test_acc = test_step(model=model,\n",
        "                                    dataloader=test_dataloader,\n",
        "                                    loss_fn=loss_fn,\n",
        "                                    device=device)\n",
        "\n",
        "    results[\"train_loss\"].append(train_loss)\n",
        "    results[\"train_acc\"].append(train_acc)\n",
        "    results[\"test_loss\"].append(test_loss)\n",
        "    results[\"test_acc\"].append(test_acc)\n",
        "\n",
        "\n",
        "    if epoch % 10 == 0:\n",
        "      print(f\"Epoch {epoch} | Train loss: {train_loss:.4f} | Train acc: {train_acc:.4f} | Test_loss: {test_loss:.4f} | Test acc: {test_acc:.4f}\")\n",
        "\n",
        "  return results"
      ]
    },
    {
      "cell_type": "markdown",
      "metadata": {
        "id": "EKTcLyV4gUFy"
      },
      "source": [
        "# 1. image with size 64x64"
      ]
    },
    {
      "cell_type": "code",
      "source": [
        "# Create transform\n",
        "with_augmented_transform, simple_transform = create_transforms(64, 64)"
      ],
      "metadata": {
        "id": "lu_VmbKJUsKu"
      },
      "execution_count": null,
      "outputs": []
    },
    {
      "cell_type": "markdown",
      "source": [
        "## Without data augment"
      ],
      "metadata": {
        "id": "NtSyffd_U43G"
      }
    },
    {
      "cell_type": "code",
      "execution_count": null,
      "metadata": {
        "id": "JDvTjjdhRyJq"
      },
      "outputs": [],
      "source": [
        "# # create dataloader\n",
        "# train_dataloader, test_dataloader, class_names = create_dataloader(train_dir=train_dir,\n",
        "#                                                                    test_dir= test_dir,\n",
        "#                                                                    train_transform= simple_transform,\n",
        "#                                                                    test_transform= simple_transform,\n",
        "#                                                                    batch_size= BATCH_SIZE,\n",
        "#                                                                    num_workers=NUM_WORKERS)\n",
        "# train_dataloader, test_dataloader, class_names"
      ]
    },
    {
      "cell_type": "code",
      "execution_count": null,
      "metadata": {
        "id": "B0AjRzCOSQoR"
      },
      "outputs": [],
      "source": [
        "# # Check out what's inside the training dataloader\n",
        "# train_features_batch, train_labels_batch = next(iter(train_dataloader))\n",
        "# train_features_batch.shape, train_labels_batch.shape"
      ]
    },
    {
      "cell_type": "code",
      "execution_count": null,
      "metadata": {
        "id": "vkMS075ETbKi"
      },
      "outputs": [],
      "source": [
        "# model_1 = CNN_model(input_shape=3, initial_hidden_units=8, output_shape=len(class_names)).to(device)\n",
        "\n",
        "# loss_fn = torch.nn.CrossEntropyLoss()\n",
        "# optimizer = torch.optim.Adam(params=model_1.parameters())\n",
        "\n",
        "# start_time = timer()\n",
        "# results_64x64_simple = train(model=model_1,\n",
        "#                       train_dataloader=train_dataloader,\n",
        "#                       test_dataloader=test_dataloader,\n",
        "#                       loss_fn=loss_fn,\n",
        "#                       optimizer=optimizer,\n",
        "#                       epochs=40,\n",
        "#                       device=device)\n",
        "# end_time = timer()\n",
        "\n",
        "# duration_64x64 = end_time - start_time"
      ]
    },
    {
      "cell_type": "code",
      "execution_count": null,
      "metadata": {
        "id": "P8-FbudYx85M"
      },
      "outputs": [],
      "source": [
        "# df_64x64 = pd.DataFrame(results_64x64_simple)\n",
        "# df_64x64.tail()"
      ]
    },
    {
      "cell_type": "code",
      "source": [
        "# duration_64x64"
      ],
      "metadata": {
        "id": "KUznBxxyXIDZ"
      },
      "execution_count": null,
      "outputs": []
    },
    {
      "cell_type": "markdown",
      "source": [
        "## With data augment"
      ],
      "metadata": {
        "id": "EUv6OsCYV3KS"
      }
    },
    {
      "cell_type": "code",
      "source": [
        "# create dataloader\n",
        "train_dataloader, test_dataloader, class_names = create_dataloader(train_dir=train_dir_2,\n",
        "                                                                   test_dir= test_dir_2,\n",
        "                                                                   train_transform= with_augmented_transform,\n",
        "                                                                   test_transform= simple_transform,\n",
        "                                                                   batch_size= BATCH_SIZE,\n",
        "                                                                   num_workers=NUM_WORKERS)\n",
        "len(train_dataloader), len(test_dataloader), class_names"
      ],
      "metadata": {
        "id": "PXcBItIoX6cM",
        "outputId": "1048992e-3e8d-4c83-f8f4-d6ed9fbfe0bf",
        "colab": {
          "base_uri": "https://localhost:8080/"
        }
      },
      "execution_count": null,
      "outputs": [
        {
          "output_type": "execute_result",
          "data": {
            "text/plain": [
              "(116, 29, ['battery', 'glass', 'metal', 'organic', 'paper', 'plastic'])"
            ]
          },
          "metadata": {},
          "execution_count": 19
        }
      ]
    },
    {
      "cell_type": "code",
      "source": [
        "torch.manual_seed(42)\n",
        "torch.cuda.manual_seed(42)\n",
        "\n",
        "model_1_augment = CNN_model(input_shape=3, initial_hidden_units=8, output_shape=len(class_names)).to(device)\n",
        "\n",
        "loss_fn = torch.nn.CrossEntropyLoss()\n",
        "optimizer = torch.optim.Adam(params=model_1_augment.parameters(), lr=1e-3)\n",
        "\n",
        "start_time = timer()\n",
        "results_64x64_augment = train(model=model_1_augment,\n",
        "                      train_dataloader=train_dataloader,\n",
        "                      test_dataloader=test_dataloader,\n",
        "                      loss_fn=loss_fn,\n",
        "                      optimizer=optimizer,\n",
        "                      epochs=50,\n",
        "                      device=device)\n",
        "end_time = timer()\n",
        "\n",
        "duration_64x64_augment = end_time - start_time"
      ],
      "metadata": {
        "id": "SxxUb8zzV6hQ",
        "outputId": "9ceb74a7-1d67-40e6-c701-fb2b18dc5c66",
        "colab": {
          "base_uri": "https://localhost:8080/",
          "height": 153,
          "referenced_widgets": [
            "2578d54d2a394914989f9a62017c2e5f",
            "fe0398657d144c55a1f623eb36ea73a0",
            "fb4ca889cb09410da1c87a2f844d5992",
            "fd5d6b6cba104386b44a10d02f968381",
            "f9313b8161a549228602e2250233bebc",
            "43507da3788a4c1a8ca5b89331b36037",
            "e70a7b7d315f4fdfbcea9712554e213b",
            "26d0a2b059834a2d9843e2d0fceaeba8",
            "26bbc0d12e6d4c3b967f1ff3aa5b0f90",
            "825e28d4c0f14715b18fe7b3e329933c",
            "98fe91af44e946498d11ae1d1184ef84"
          ]
        }
      },
      "execution_count": null,
      "outputs": [
        {
          "output_type": "display_data",
          "data": {
            "text/plain": [
              "  0%|          | 0/50 [00:00<?, ?it/s]"
            ],
            "application/vnd.jupyter.widget-view+json": {
              "version_major": 2,
              "version_minor": 0,
              "model_id": "2578d54d2a394914989f9a62017c2e5f"
            }
          },
          "metadata": {}
        },
        {
          "output_type": "stream",
          "name": "stdout",
          "text": [
            "256\n",
            "Epoch 10 | Train loss: 0.9995 | Train acc: 0.6183 | Test_loss: 0.9960 | Test acc: 0.6110\n",
            "Epoch 20 | Train loss: 0.8321 | Train acc: 0.6797 | Test_loss: 0.9016 | Test acc: 0.6670\n",
            "Epoch 30 | Train loss: 0.7205 | Train acc: 0.7346 | Test_loss: 0.9198 | Test acc: 0.6595\n",
            "Epoch 40 | Train loss: 0.6358 | Train acc: 0.7675 | Test_loss: 0.8590 | Test acc: 0.7047\n",
            "Epoch 50 | Train loss: 0.5790 | Train acc: 0.7926 | Test_loss: 0.8603 | Test acc: 0.7155\n"
          ]
        }
      ]
    },
    {
      "cell_type": "code",
      "source": [
        "df_64x64_augment = pd.DataFrame(results_64x64_augment)\n",
        "df_64x64_augment.tail()"
      ],
      "metadata": {
        "id": "XJeNv9ItYYCW",
        "outputId": "4acea7d7-a804-49d9-bdd4-182480c453d1",
        "colab": {
          "base_uri": "https://localhost:8080/",
          "height": 206
        }
      },
      "execution_count": null,
      "outputs": [
        {
          "output_type": "execute_result",
          "data": {
            "text/plain": [
              "    train_loss  train_acc  test_loss  test_acc\n",
              "45    0.601966   0.786099   0.927339  0.688578\n",
              "46    0.609595   0.786099   0.853420  0.718750\n",
              "47    0.597328   0.783405   0.893155  0.706897\n",
              "48    0.574328   0.797683   0.901496  0.720905\n",
              "49    0.579049   0.792565   0.860309  0.715517"
            ],
            "text/html": [
              "\n",
              "  <div id=\"df-afa8366a-1a34-4211-aa67-f4592b82a90f\" class=\"colab-df-container\">\n",
              "    <div>\n",
              "<style scoped>\n",
              "    .dataframe tbody tr th:only-of-type {\n",
              "        vertical-align: middle;\n",
              "    }\n",
              "\n",
              "    .dataframe tbody tr th {\n",
              "        vertical-align: top;\n",
              "    }\n",
              "\n",
              "    .dataframe thead th {\n",
              "        text-align: right;\n",
              "    }\n",
              "</style>\n",
              "<table border=\"1\" class=\"dataframe\">\n",
              "  <thead>\n",
              "    <tr style=\"text-align: right;\">\n",
              "      <th></th>\n",
              "      <th>train_loss</th>\n",
              "      <th>train_acc</th>\n",
              "      <th>test_loss</th>\n",
              "      <th>test_acc</th>\n",
              "    </tr>\n",
              "  </thead>\n",
              "  <tbody>\n",
              "    <tr>\n",
              "      <th>45</th>\n",
              "      <td>0.601966</td>\n",
              "      <td>0.786099</td>\n",
              "      <td>0.927339</td>\n",
              "      <td>0.688578</td>\n",
              "    </tr>\n",
              "    <tr>\n",
              "      <th>46</th>\n",
              "      <td>0.609595</td>\n",
              "      <td>0.786099</td>\n",
              "      <td>0.853420</td>\n",
              "      <td>0.718750</td>\n",
              "    </tr>\n",
              "    <tr>\n",
              "      <th>47</th>\n",
              "      <td>0.597328</td>\n",
              "      <td>0.783405</td>\n",
              "      <td>0.893155</td>\n",
              "      <td>0.706897</td>\n",
              "    </tr>\n",
              "    <tr>\n",
              "      <th>48</th>\n",
              "      <td>0.574328</td>\n",
              "      <td>0.797683</td>\n",
              "      <td>0.901496</td>\n",
              "      <td>0.720905</td>\n",
              "    </tr>\n",
              "    <tr>\n",
              "      <th>49</th>\n",
              "      <td>0.579049</td>\n",
              "      <td>0.792565</td>\n",
              "      <td>0.860309</td>\n",
              "      <td>0.715517</td>\n",
              "    </tr>\n",
              "  </tbody>\n",
              "</table>\n",
              "</div>\n",
              "    <div class=\"colab-df-buttons\">\n",
              "\n",
              "  <div class=\"colab-df-container\">\n",
              "    <button class=\"colab-df-convert\" onclick=\"convertToInteractive('df-afa8366a-1a34-4211-aa67-f4592b82a90f')\"\n",
              "            title=\"Convert this dataframe to an interactive table.\"\n",
              "            style=\"display:none;\">\n",
              "\n",
              "  <svg xmlns=\"http://www.w3.org/2000/svg\" height=\"24px\" viewBox=\"0 -960 960 960\">\n",
              "    <path d=\"M120-120v-720h720v720H120Zm60-500h600v-160H180v160Zm220 220h160v-160H400v160Zm0 220h160v-160H400v160ZM180-400h160v-160H180v160Zm440 0h160v-160H620v160ZM180-180h160v-160H180v160Zm440 0h160v-160H620v160Z\"/>\n",
              "  </svg>\n",
              "    </button>\n",
              "\n",
              "  <style>\n",
              "    .colab-df-container {\n",
              "      display:flex;\n",
              "      gap: 12px;\n",
              "    }\n",
              "\n",
              "    .colab-df-convert {\n",
              "      background-color: #E8F0FE;\n",
              "      border: none;\n",
              "      border-radius: 50%;\n",
              "      cursor: pointer;\n",
              "      display: none;\n",
              "      fill: #1967D2;\n",
              "      height: 32px;\n",
              "      padding: 0 0 0 0;\n",
              "      width: 32px;\n",
              "    }\n",
              "\n",
              "    .colab-df-convert:hover {\n",
              "      background-color: #E2EBFA;\n",
              "      box-shadow: 0px 1px 2px rgba(60, 64, 67, 0.3), 0px 1px 3px 1px rgba(60, 64, 67, 0.15);\n",
              "      fill: #174EA6;\n",
              "    }\n",
              "\n",
              "    .colab-df-buttons div {\n",
              "      margin-bottom: 4px;\n",
              "    }\n",
              "\n",
              "    [theme=dark] .colab-df-convert {\n",
              "      background-color: #3B4455;\n",
              "      fill: #D2E3FC;\n",
              "    }\n",
              "\n",
              "    [theme=dark] .colab-df-convert:hover {\n",
              "      background-color: #434B5C;\n",
              "      box-shadow: 0px 1px 3px 1px rgba(0, 0, 0, 0.15);\n",
              "      filter: drop-shadow(0px 1px 2px rgba(0, 0, 0, 0.3));\n",
              "      fill: #FFFFFF;\n",
              "    }\n",
              "  </style>\n",
              "\n",
              "    <script>\n",
              "      const buttonEl =\n",
              "        document.querySelector('#df-afa8366a-1a34-4211-aa67-f4592b82a90f button.colab-df-convert');\n",
              "      buttonEl.style.display =\n",
              "        google.colab.kernel.accessAllowed ? 'block' : 'none';\n",
              "\n",
              "      async function convertToInteractive(key) {\n",
              "        const element = document.querySelector('#df-afa8366a-1a34-4211-aa67-f4592b82a90f');\n",
              "        const dataTable =\n",
              "          await google.colab.kernel.invokeFunction('convertToInteractive',\n",
              "                                                    [key], {});\n",
              "        if (!dataTable) return;\n",
              "\n",
              "        const docLinkHtml = 'Like what you see? Visit the ' +\n",
              "          '<a target=\"_blank\" href=https://colab.research.google.com/notebooks/data_table.ipynb>data table notebook</a>'\n",
              "          + ' to learn more about interactive tables.';\n",
              "        element.innerHTML = '';\n",
              "        dataTable['output_type'] = 'display_data';\n",
              "        await google.colab.output.renderOutput(dataTable, element);\n",
              "        const docLink = document.createElement('div');\n",
              "        docLink.innerHTML = docLinkHtml;\n",
              "        element.appendChild(docLink);\n",
              "      }\n",
              "    </script>\n",
              "  </div>\n",
              "\n",
              "\n",
              "<div id=\"df-fa206cb9-a3ed-4fe4-8442-f83decfb2a61\">\n",
              "  <button class=\"colab-df-quickchart\" onclick=\"quickchart('df-fa206cb9-a3ed-4fe4-8442-f83decfb2a61')\"\n",
              "            title=\"Suggest charts\"\n",
              "            style=\"display:none;\">\n",
              "\n",
              "<svg xmlns=\"http://www.w3.org/2000/svg\" height=\"24px\"viewBox=\"0 0 24 24\"\n",
              "     width=\"24px\">\n",
              "    <g>\n",
              "        <path d=\"M19 3H5c-1.1 0-2 .9-2 2v14c0 1.1.9 2 2 2h14c1.1 0 2-.9 2-2V5c0-1.1-.9-2-2-2zM9 17H7v-7h2v7zm4 0h-2V7h2v10zm4 0h-2v-4h2v4z\"/>\n",
              "    </g>\n",
              "</svg>\n",
              "  </button>\n",
              "\n",
              "<style>\n",
              "  .colab-df-quickchart {\n",
              "      --bg-color: #E8F0FE;\n",
              "      --fill-color: #1967D2;\n",
              "      --hover-bg-color: #E2EBFA;\n",
              "      --hover-fill-color: #174EA6;\n",
              "      --disabled-fill-color: #AAA;\n",
              "      --disabled-bg-color: #DDD;\n",
              "  }\n",
              "\n",
              "  [theme=dark] .colab-df-quickchart {\n",
              "      --bg-color: #3B4455;\n",
              "      --fill-color: #D2E3FC;\n",
              "      --hover-bg-color: #434B5C;\n",
              "      --hover-fill-color: #FFFFFF;\n",
              "      --disabled-bg-color: #3B4455;\n",
              "      --disabled-fill-color: #666;\n",
              "  }\n",
              "\n",
              "  .colab-df-quickchart {\n",
              "    background-color: var(--bg-color);\n",
              "    border: none;\n",
              "    border-radius: 50%;\n",
              "    cursor: pointer;\n",
              "    display: none;\n",
              "    fill: var(--fill-color);\n",
              "    height: 32px;\n",
              "    padding: 0;\n",
              "    width: 32px;\n",
              "  }\n",
              "\n",
              "  .colab-df-quickchart:hover {\n",
              "    background-color: var(--hover-bg-color);\n",
              "    box-shadow: 0 1px 2px rgba(60, 64, 67, 0.3), 0 1px 3px 1px rgba(60, 64, 67, 0.15);\n",
              "    fill: var(--button-hover-fill-color);\n",
              "  }\n",
              "\n",
              "  .colab-df-quickchart-complete:disabled,\n",
              "  .colab-df-quickchart-complete:disabled:hover {\n",
              "    background-color: var(--disabled-bg-color);\n",
              "    fill: var(--disabled-fill-color);\n",
              "    box-shadow: none;\n",
              "  }\n",
              "\n",
              "  .colab-df-spinner {\n",
              "    border: 2px solid var(--fill-color);\n",
              "    border-color: transparent;\n",
              "    border-bottom-color: var(--fill-color);\n",
              "    animation:\n",
              "      spin 1s steps(1) infinite;\n",
              "  }\n",
              "\n",
              "  @keyframes spin {\n",
              "    0% {\n",
              "      border-color: transparent;\n",
              "      border-bottom-color: var(--fill-color);\n",
              "      border-left-color: var(--fill-color);\n",
              "    }\n",
              "    20% {\n",
              "      border-color: transparent;\n",
              "      border-left-color: var(--fill-color);\n",
              "      border-top-color: var(--fill-color);\n",
              "    }\n",
              "    30% {\n",
              "      border-color: transparent;\n",
              "      border-left-color: var(--fill-color);\n",
              "      border-top-color: var(--fill-color);\n",
              "      border-right-color: var(--fill-color);\n",
              "    }\n",
              "    40% {\n",
              "      border-color: transparent;\n",
              "      border-right-color: var(--fill-color);\n",
              "      border-top-color: var(--fill-color);\n",
              "    }\n",
              "    60% {\n",
              "      border-color: transparent;\n",
              "      border-right-color: var(--fill-color);\n",
              "    }\n",
              "    80% {\n",
              "      border-color: transparent;\n",
              "      border-right-color: var(--fill-color);\n",
              "      border-bottom-color: var(--fill-color);\n",
              "    }\n",
              "    90% {\n",
              "      border-color: transparent;\n",
              "      border-bottom-color: var(--fill-color);\n",
              "    }\n",
              "  }\n",
              "</style>\n",
              "\n",
              "  <script>\n",
              "    async function quickchart(key) {\n",
              "      const quickchartButtonEl =\n",
              "        document.querySelector('#' + key + ' button');\n",
              "      quickchartButtonEl.disabled = true;  // To prevent multiple clicks.\n",
              "      quickchartButtonEl.classList.add('colab-df-spinner');\n",
              "      try {\n",
              "        const charts = await google.colab.kernel.invokeFunction(\n",
              "            'suggestCharts', [key], {});\n",
              "      } catch (error) {\n",
              "        console.error('Error during call to suggestCharts:', error);\n",
              "      }\n",
              "      quickchartButtonEl.classList.remove('colab-df-spinner');\n",
              "      quickchartButtonEl.classList.add('colab-df-quickchart-complete');\n",
              "    }\n",
              "    (() => {\n",
              "      let quickchartButtonEl =\n",
              "        document.querySelector('#df-fa206cb9-a3ed-4fe4-8442-f83decfb2a61 button');\n",
              "      quickchartButtonEl.style.display =\n",
              "        google.colab.kernel.accessAllowed ? 'block' : 'none';\n",
              "    })();\n",
              "  </script>\n",
              "</div>\n",
              "\n",
              "    </div>\n",
              "  </div>\n"
            ],
            "application/vnd.google.colaboratory.intrinsic+json": {
              "type": "dataframe",
              "summary": "{\n  \"name\": \"df_64x64_augment\",\n  \"rows\": 5,\n  \"fields\": [\n    {\n      \"column\": \"train_loss\",\n      \"properties\": {\n        \"dtype\": \"number\",\n        \"std\": 0.015134973958105882,\n        \"min\": 0.5743280620924358,\n        \"max\": 0.6095945817129366,\n        \"num_unique_values\": 5,\n        \"samples\": [\n          0.6095945817129366,\n          0.5790490048198864,\n          0.5973279021423439\n        ],\n        \"semantic_type\": \"\",\n        \"description\": \"\"\n      }\n    },\n    {\n      \"column\": \"train_acc\",\n      \"properties\": {\n        \"dtype\": \"number\",\n        \"std\": 0.005832917501174272,\n        \"min\": 0.7834051724137931,\n        \"max\": 0.7976831896551724,\n        \"num_unique_values\": 4,\n        \"samples\": [\n          0.7834051724137931,\n          0.7925646551724138,\n          0.7860991379310345\n        ],\n        \"semantic_type\": \"\",\n        \"description\": \"\"\n      }\n    },\n    {\n      \"column\": \"test_loss\",\n      \"properties\": {\n        \"dtype\": \"number\",\n        \"std\": 0.03047621517712075,\n        \"min\": 0.853420448200456,\n        \"max\": 0.9273391872130591,\n        \"num_unique_values\": 5,\n        \"samples\": [\n          0.853420448200456,\n          0.860308555693462,\n          0.8931552644433647\n        ],\n        \"semantic_type\": \"\",\n        \"description\": \"\"\n      }\n    },\n    {\n      \"column\": \"test_acc\",\n      \"properties\": {\n        \"dtype\": \"number\",\n        \"std\": 0.013175667306721433,\n        \"min\": 0.6885775862068966,\n        \"max\": 0.7209051724137931,\n        \"num_unique_values\": 5,\n        \"samples\": [\n          0.71875,\n          0.7155172413793104,\n          0.7068965517241379\n        ],\n        \"semantic_type\": \"\",\n        \"description\": \"\"\n      }\n    }\n  ]\n}"
            }
          },
          "metadata": {},
          "execution_count": 21
        }
      ]
    },
    {
      "cell_type": "code",
      "source": [
        "duration_64x64_augment / 60"
      ],
      "metadata": {
        "id": "HDi-0LypYeTy",
        "outputId": "96e99eac-1399-4b93-dd3a-74a88bf62a7b",
        "colab": {
          "base_uri": "https://localhost:8080/"
        }
      },
      "execution_count": null,
      "outputs": [
        {
          "output_type": "execute_result",
          "data": {
            "text/plain": [
              "9.25272507465"
            ]
          },
          "metadata": {},
          "execution_count": 22
        }
      ]
    },
    {
      "cell_type": "markdown",
      "source": [
        "# Image with 128x128"
      ],
      "metadata": {
        "id": "LAd70KZhPD0l"
      }
    },
    {
      "cell_type": "code",
      "execution_count": null,
      "metadata": {
        "id": "9ubPKwgsytEO"
      },
      "outputs": [],
      "source": [
        "# Create transform\n",
        "with_augmented_transform, simple_transform = create_transforms(128, 128)"
      ]
    },
    {
      "cell_type": "markdown",
      "source": [
        "## Without augmented"
      ],
      "metadata": {
        "id": "Nzphh8XNaJJH"
      }
    },
    {
      "cell_type": "code",
      "source": [
        "# create dataloader\n",
        "# train_dataloader, test_dataloader, class_names = create_dataloader(train_dir, test_dir, simple_transform, simple_transform, batch_size=BATCH_SIZE, num_workers=NUM_WORKERS)\n",
        "# train_dataloader, test_dataloader, class_names"
      ],
      "metadata": {
        "id": "uC1zTYXoaIqC"
      },
      "execution_count": null,
      "outputs": []
    },
    {
      "cell_type": "code",
      "execution_count": null,
      "metadata": {
        "id": "NJX_J6QyT6jL"
      },
      "outputs": [],
      "source": [
        "# model_2 = CNN_model(input_shape=3, initial_hidden_units=8, output_shape=len(class_names)).to(device)\n",
        "\n",
        "# loss_fn = torch.nn.CrossEntropyLoss()\n",
        "# optimizer = torch.optim.Adam(params=model_2.parameters())\n",
        "\n",
        "# start_time = timer()\n",
        "# results_128x128 = train(model=model_2,\n",
        "#                       train_dataloader=train_dataloader,\n",
        "#                       test_dataloader=test_dataloader,\n",
        "#                       loss_fn=loss_fn,\n",
        "#                       optimizer=optimizer,\n",
        "#                       epochs=40,\n",
        "#                       device=device)\n",
        "# end_time = timer()\n",
        "\n",
        "# duration_128x128 = end_time - start_time"
      ]
    },
    {
      "cell_type": "code",
      "source": [
        "# duration_128x128 / 60"
      ],
      "metadata": {
        "id": "VCHDOZ6yagQN"
      },
      "execution_count": null,
      "outputs": []
    },
    {
      "cell_type": "code",
      "execution_count": null,
      "metadata": {
        "id": "hrZH2NHWUMrK"
      },
      "outputs": [],
      "source": [
        "# df_128x128 = pd.DataFrame(results_128x128)\n",
        "# df_128x128.tail()"
      ]
    },
    {
      "cell_type": "markdown",
      "source": [
        "## With augment"
      ],
      "metadata": {
        "id": "Wi8kIdxWb5dU"
      }
    },
    {
      "cell_type": "code",
      "source": [
        "# create dataloader\n",
        "train_dataloader, test_dataloader, class_names = create_dataloader(train_dir=train_dir_2,\n",
        "                                                                   test_dir= test_dir_2,\n",
        "                                                                   train_transform= with_augmented_transform,\n",
        "                                                                   test_transform= simple_transform,\n",
        "                                                                   batch_size= BATCH_SIZE,\n",
        "                                                                   num_workers=NUM_WORKERS)\n",
        "train_dataloader, test_dataloader, class_names"
      ],
      "metadata": {
        "id": "6rRlYa4Ob5Am",
        "outputId": "37acd4bd-8b74-4026-9fe2-facec41d591c",
        "colab": {
          "base_uri": "https://localhost:8080/"
        }
      },
      "execution_count": null,
      "outputs": [
        {
          "output_type": "execute_result",
          "data": {
            "text/plain": [
              "(<torch.utils.data.dataloader.DataLoader at 0x78ebc8f81c00>,\n",
              " <torch.utils.data.dataloader.DataLoader at 0x78ebc8f825c0>,\n",
              " ['battery', 'glass', 'metal', 'organic', 'paper', 'plastic'])"
            ]
          },
          "metadata": {},
          "execution_count": 28
        }
      ]
    },
    {
      "cell_type": "code",
      "source": [
        "torch.manual_seed(42)\n",
        "torch.cuda.manual_seed(42)\n",
        "\n",
        "model_2_augment = CNN_model(input_shape=3, initial_hidden_units=8, output_shape=len(class_names)).to(device)\n",
        "\n",
        "loss_fn = torch.nn.CrossEntropyLoss()\n",
        "optimizer = torch.optim.Adam(params=model_2_augment.parameters(), lr=1e-3)\n",
        "\n",
        "start_time = timer()\n",
        "results_128x128_augment = train(model=model_2_augment,\n",
        "                      train_dataloader=train_dataloader,\n",
        "                      test_dataloader=test_dataloader,\n",
        "                      loss_fn=loss_fn,\n",
        "                      optimizer=optimizer,\n",
        "                      epochs=50,\n",
        "                      device=device)\n",
        "end_time = timer()\n",
        "\n",
        "duration_128x128_augment = end_time - start_time"
      ],
      "metadata": {
        "id": "PgLBHZMkcE_1",
        "outputId": "5320ca55-1ac7-435a-b9d9-402e9af6278a",
        "colab": {
          "base_uri": "https://localhost:8080/",
          "height": 153,
          "referenced_widgets": [
            "e2543279bc9744069032107084fa3d5e",
            "3bd45e21bb844615a0d9241bd6494bb2",
            "94fba3d0efdd4fca8cd0c57f75f52d5e",
            "2589a57555e24b8c99a424f44ef36e38",
            "2a6ea8a313d0497eba6ca325d6447563",
            "97f0efeea15642ababb0c05caef82de8",
            "b3b31528b8fb4b1a9582202b493a4624",
            "4d7213963df846bda31ec7e8104e327d",
            "ba7c5f8e0c7a45ab9f890cd07cfc8eec",
            "c058d13c418b477194e288c3d49fb680",
            "13095ff8469145b49cbc5064bbc5a5b2"
          ]
        }
      },
      "execution_count": null,
      "outputs": [
        {
          "output_type": "display_data",
          "data": {
            "text/plain": [
              "  0%|          | 0/50 [00:00<?, ?it/s]"
            ],
            "application/vnd.jupyter.widget-view+json": {
              "version_major": 2,
              "version_minor": 0,
              "model_id": "e2543279bc9744069032107084fa3d5e"
            }
          },
          "metadata": {}
        },
        {
          "output_type": "stream",
          "name": "stdout",
          "text": [
            "2304\n",
            "Epoch 10 | Train loss: 0.9655 | Train acc: 0.6387 | Test_loss: 0.9397 | Test acc: 0.6401\n",
            "Epoch 20 | Train loss: 0.8367 | Train acc: 0.6929 | Test_loss: 0.8807 | Test acc: 0.6789\n",
            "Epoch 30 | Train loss: 0.7649 | Train acc: 0.7182 | Test_loss: 0.8411 | Test acc: 0.6940\n",
            "Epoch 40 | Train loss: 0.7027 | Train acc: 0.7438 | Test_loss: 0.8496 | Test acc: 0.6972\n",
            "Epoch 50 | Train loss: 0.6238 | Train acc: 0.7759 | Test_loss: 0.8336 | Test acc: 0.7037\n"
          ]
        }
      ]
    },
    {
      "cell_type": "code",
      "source": [
        "df_128x128_augment = pd.DataFrame(results_128x128_augment)\n",
        "df_128x128_augment.tail()"
      ],
      "metadata": {
        "id": "ZI3CNDcIcqjB",
        "outputId": "39d27faa-7d06-4906-e068-c78db1864143",
        "colab": {
          "base_uri": "https://localhost:8080/",
          "height": 206
        }
      },
      "execution_count": null,
      "outputs": [
        {
          "output_type": "execute_result",
          "data": {
            "text/plain": [
              "    train_loss  train_acc  test_loss  test_acc\n",
              "45    0.654320   0.761853   0.836042  0.698276\n",
              "46    0.650940   0.770205   0.815363  0.716595\n",
              "47    0.646544   0.768050   0.856646  0.703664\n",
              "48    0.665163   0.762392   0.836379  0.714440\n",
              "49    0.623807   0.775862   0.833581  0.703664"
            ],
            "text/html": [
              "\n",
              "  <div id=\"df-62f09786-5c31-47e4-b0a4-23f33fe7c65f\" class=\"colab-df-container\">\n",
              "    <div>\n",
              "<style scoped>\n",
              "    .dataframe tbody tr th:only-of-type {\n",
              "        vertical-align: middle;\n",
              "    }\n",
              "\n",
              "    .dataframe tbody tr th {\n",
              "        vertical-align: top;\n",
              "    }\n",
              "\n",
              "    .dataframe thead th {\n",
              "        text-align: right;\n",
              "    }\n",
              "</style>\n",
              "<table border=\"1\" class=\"dataframe\">\n",
              "  <thead>\n",
              "    <tr style=\"text-align: right;\">\n",
              "      <th></th>\n",
              "      <th>train_loss</th>\n",
              "      <th>train_acc</th>\n",
              "      <th>test_loss</th>\n",
              "      <th>test_acc</th>\n",
              "    </tr>\n",
              "  </thead>\n",
              "  <tbody>\n",
              "    <tr>\n",
              "      <th>45</th>\n",
              "      <td>0.654320</td>\n",
              "      <td>0.761853</td>\n",
              "      <td>0.836042</td>\n",
              "      <td>0.698276</td>\n",
              "    </tr>\n",
              "    <tr>\n",
              "      <th>46</th>\n",
              "      <td>0.650940</td>\n",
              "      <td>0.770205</td>\n",
              "      <td>0.815363</td>\n",
              "      <td>0.716595</td>\n",
              "    </tr>\n",
              "    <tr>\n",
              "      <th>47</th>\n",
              "      <td>0.646544</td>\n",
              "      <td>0.768050</td>\n",
              "      <td>0.856646</td>\n",
              "      <td>0.703664</td>\n",
              "    </tr>\n",
              "    <tr>\n",
              "      <th>48</th>\n",
              "      <td>0.665163</td>\n",
              "      <td>0.762392</td>\n",
              "      <td>0.836379</td>\n",
              "      <td>0.714440</td>\n",
              "    </tr>\n",
              "    <tr>\n",
              "      <th>49</th>\n",
              "      <td>0.623807</td>\n",
              "      <td>0.775862</td>\n",
              "      <td>0.833581</td>\n",
              "      <td>0.703664</td>\n",
              "    </tr>\n",
              "  </tbody>\n",
              "</table>\n",
              "</div>\n",
              "    <div class=\"colab-df-buttons\">\n",
              "\n",
              "  <div class=\"colab-df-container\">\n",
              "    <button class=\"colab-df-convert\" onclick=\"convertToInteractive('df-62f09786-5c31-47e4-b0a4-23f33fe7c65f')\"\n",
              "            title=\"Convert this dataframe to an interactive table.\"\n",
              "            style=\"display:none;\">\n",
              "\n",
              "  <svg xmlns=\"http://www.w3.org/2000/svg\" height=\"24px\" viewBox=\"0 -960 960 960\">\n",
              "    <path d=\"M120-120v-720h720v720H120Zm60-500h600v-160H180v160Zm220 220h160v-160H400v160Zm0 220h160v-160H400v160ZM180-400h160v-160H180v160Zm440 0h160v-160H620v160ZM180-180h160v-160H180v160Zm440 0h160v-160H620v160Z\"/>\n",
              "  </svg>\n",
              "    </button>\n",
              "\n",
              "  <style>\n",
              "    .colab-df-container {\n",
              "      display:flex;\n",
              "      gap: 12px;\n",
              "    }\n",
              "\n",
              "    .colab-df-convert {\n",
              "      background-color: #E8F0FE;\n",
              "      border: none;\n",
              "      border-radius: 50%;\n",
              "      cursor: pointer;\n",
              "      display: none;\n",
              "      fill: #1967D2;\n",
              "      height: 32px;\n",
              "      padding: 0 0 0 0;\n",
              "      width: 32px;\n",
              "    }\n",
              "\n",
              "    .colab-df-convert:hover {\n",
              "      background-color: #E2EBFA;\n",
              "      box-shadow: 0px 1px 2px rgba(60, 64, 67, 0.3), 0px 1px 3px 1px rgba(60, 64, 67, 0.15);\n",
              "      fill: #174EA6;\n",
              "    }\n",
              "\n",
              "    .colab-df-buttons div {\n",
              "      margin-bottom: 4px;\n",
              "    }\n",
              "\n",
              "    [theme=dark] .colab-df-convert {\n",
              "      background-color: #3B4455;\n",
              "      fill: #D2E3FC;\n",
              "    }\n",
              "\n",
              "    [theme=dark] .colab-df-convert:hover {\n",
              "      background-color: #434B5C;\n",
              "      box-shadow: 0px 1px 3px 1px rgba(0, 0, 0, 0.15);\n",
              "      filter: drop-shadow(0px 1px 2px rgba(0, 0, 0, 0.3));\n",
              "      fill: #FFFFFF;\n",
              "    }\n",
              "  </style>\n",
              "\n",
              "    <script>\n",
              "      const buttonEl =\n",
              "        document.querySelector('#df-62f09786-5c31-47e4-b0a4-23f33fe7c65f button.colab-df-convert');\n",
              "      buttonEl.style.display =\n",
              "        google.colab.kernel.accessAllowed ? 'block' : 'none';\n",
              "\n",
              "      async function convertToInteractive(key) {\n",
              "        const element = document.querySelector('#df-62f09786-5c31-47e4-b0a4-23f33fe7c65f');\n",
              "        const dataTable =\n",
              "          await google.colab.kernel.invokeFunction('convertToInteractive',\n",
              "                                                    [key], {});\n",
              "        if (!dataTable) return;\n",
              "\n",
              "        const docLinkHtml = 'Like what you see? Visit the ' +\n",
              "          '<a target=\"_blank\" href=https://colab.research.google.com/notebooks/data_table.ipynb>data table notebook</a>'\n",
              "          + ' to learn more about interactive tables.';\n",
              "        element.innerHTML = '';\n",
              "        dataTable['output_type'] = 'display_data';\n",
              "        await google.colab.output.renderOutput(dataTable, element);\n",
              "        const docLink = document.createElement('div');\n",
              "        docLink.innerHTML = docLinkHtml;\n",
              "        element.appendChild(docLink);\n",
              "      }\n",
              "    </script>\n",
              "  </div>\n",
              "\n",
              "\n",
              "<div id=\"df-c27ef3a3-58bf-4421-8bf0-e0f0a20a7eee\">\n",
              "  <button class=\"colab-df-quickchart\" onclick=\"quickchart('df-c27ef3a3-58bf-4421-8bf0-e0f0a20a7eee')\"\n",
              "            title=\"Suggest charts\"\n",
              "            style=\"display:none;\">\n",
              "\n",
              "<svg xmlns=\"http://www.w3.org/2000/svg\" height=\"24px\"viewBox=\"0 0 24 24\"\n",
              "     width=\"24px\">\n",
              "    <g>\n",
              "        <path d=\"M19 3H5c-1.1 0-2 .9-2 2v14c0 1.1.9 2 2 2h14c1.1 0 2-.9 2-2V5c0-1.1-.9-2-2-2zM9 17H7v-7h2v7zm4 0h-2V7h2v10zm4 0h-2v-4h2v4z\"/>\n",
              "    </g>\n",
              "</svg>\n",
              "  </button>\n",
              "\n",
              "<style>\n",
              "  .colab-df-quickchart {\n",
              "      --bg-color: #E8F0FE;\n",
              "      --fill-color: #1967D2;\n",
              "      --hover-bg-color: #E2EBFA;\n",
              "      --hover-fill-color: #174EA6;\n",
              "      --disabled-fill-color: #AAA;\n",
              "      --disabled-bg-color: #DDD;\n",
              "  }\n",
              "\n",
              "  [theme=dark] .colab-df-quickchart {\n",
              "      --bg-color: #3B4455;\n",
              "      --fill-color: #D2E3FC;\n",
              "      --hover-bg-color: #434B5C;\n",
              "      --hover-fill-color: #FFFFFF;\n",
              "      --disabled-bg-color: #3B4455;\n",
              "      --disabled-fill-color: #666;\n",
              "  }\n",
              "\n",
              "  .colab-df-quickchart {\n",
              "    background-color: var(--bg-color);\n",
              "    border: none;\n",
              "    border-radius: 50%;\n",
              "    cursor: pointer;\n",
              "    display: none;\n",
              "    fill: var(--fill-color);\n",
              "    height: 32px;\n",
              "    padding: 0;\n",
              "    width: 32px;\n",
              "  }\n",
              "\n",
              "  .colab-df-quickchart:hover {\n",
              "    background-color: var(--hover-bg-color);\n",
              "    box-shadow: 0 1px 2px rgba(60, 64, 67, 0.3), 0 1px 3px 1px rgba(60, 64, 67, 0.15);\n",
              "    fill: var(--button-hover-fill-color);\n",
              "  }\n",
              "\n",
              "  .colab-df-quickchart-complete:disabled,\n",
              "  .colab-df-quickchart-complete:disabled:hover {\n",
              "    background-color: var(--disabled-bg-color);\n",
              "    fill: var(--disabled-fill-color);\n",
              "    box-shadow: none;\n",
              "  }\n",
              "\n",
              "  .colab-df-spinner {\n",
              "    border: 2px solid var(--fill-color);\n",
              "    border-color: transparent;\n",
              "    border-bottom-color: var(--fill-color);\n",
              "    animation:\n",
              "      spin 1s steps(1) infinite;\n",
              "  }\n",
              "\n",
              "  @keyframes spin {\n",
              "    0% {\n",
              "      border-color: transparent;\n",
              "      border-bottom-color: var(--fill-color);\n",
              "      border-left-color: var(--fill-color);\n",
              "    }\n",
              "    20% {\n",
              "      border-color: transparent;\n",
              "      border-left-color: var(--fill-color);\n",
              "      border-top-color: var(--fill-color);\n",
              "    }\n",
              "    30% {\n",
              "      border-color: transparent;\n",
              "      border-left-color: var(--fill-color);\n",
              "      border-top-color: var(--fill-color);\n",
              "      border-right-color: var(--fill-color);\n",
              "    }\n",
              "    40% {\n",
              "      border-color: transparent;\n",
              "      border-right-color: var(--fill-color);\n",
              "      border-top-color: var(--fill-color);\n",
              "    }\n",
              "    60% {\n",
              "      border-color: transparent;\n",
              "      border-right-color: var(--fill-color);\n",
              "    }\n",
              "    80% {\n",
              "      border-color: transparent;\n",
              "      border-right-color: var(--fill-color);\n",
              "      border-bottom-color: var(--fill-color);\n",
              "    }\n",
              "    90% {\n",
              "      border-color: transparent;\n",
              "      border-bottom-color: var(--fill-color);\n",
              "    }\n",
              "  }\n",
              "</style>\n",
              "\n",
              "  <script>\n",
              "    async function quickchart(key) {\n",
              "      const quickchartButtonEl =\n",
              "        document.querySelector('#' + key + ' button');\n",
              "      quickchartButtonEl.disabled = true;  // To prevent multiple clicks.\n",
              "      quickchartButtonEl.classList.add('colab-df-spinner');\n",
              "      try {\n",
              "        const charts = await google.colab.kernel.invokeFunction(\n",
              "            'suggestCharts', [key], {});\n",
              "      } catch (error) {\n",
              "        console.error('Error during call to suggestCharts:', error);\n",
              "      }\n",
              "      quickchartButtonEl.classList.remove('colab-df-spinner');\n",
              "      quickchartButtonEl.classList.add('colab-df-quickchart-complete');\n",
              "    }\n",
              "    (() => {\n",
              "      let quickchartButtonEl =\n",
              "        document.querySelector('#df-c27ef3a3-58bf-4421-8bf0-e0f0a20a7eee button');\n",
              "      quickchartButtonEl.style.display =\n",
              "        google.colab.kernel.accessAllowed ? 'block' : 'none';\n",
              "    })();\n",
              "  </script>\n",
              "</div>\n",
              "\n",
              "    </div>\n",
              "  </div>\n"
            ],
            "application/vnd.google.colaboratory.intrinsic+json": {
              "type": "dataframe",
              "summary": "{\n  \"name\": \"df_128x128_augment\",\n  \"rows\": 5,\n  \"fields\": [\n    {\n      \"column\": \"train_loss\",\n      \"properties\": {\n        \"dtype\": \"number\",\n        \"std\": 0.01525149803202823,\n        \"min\": 0.6238074626388221,\n        \"max\": 0.6651630121572264,\n        \"num_unique_values\": 5,\n        \"samples\": [\n          0.6509398836000212,\n          0.6238074626388221,\n          0.6465435562462643\n        ],\n        \"semantic_type\": \"\",\n        \"description\": \"\"\n      }\n    },\n    {\n      \"column\": \"train_acc\",\n      \"properties\": {\n        \"dtype\": \"number\",\n        \"std\": 0.005817343923157977,\n        \"min\": 0.7618534482758621,\n        \"max\": 0.7758620689655172,\n        \"num_unique_values\": 5,\n        \"samples\": [\n          0.7702047413793104,\n          0.7758620689655172,\n          0.7680495689655172\n        ],\n        \"semantic_type\": \"\",\n        \"description\": \"\"\n      }\n    },\n    {\n      \"column\": \"test_loss\",\n      \"properties\": {\n        \"dtype\": \"number\",\n        \"std\": 0.014640341911596069,\n        \"min\": 0.8153626949622713,\n        \"max\": 0.8566459124458248,\n        \"num_unique_values\": 5,\n        \"samples\": [\n          0.8153626949622713,\n          0.8335809008828525,\n          0.8566459124458248\n        ],\n        \"semantic_type\": \"\",\n        \"description\": \"\"\n      }\n    },\n    {\n      \"column\": \"test_acc\",\n      \"properties\": {\n        \"dtype\": \"number\",\n        \"std\": 0.00783013022611419,\n        \"min\": 0.6982758620689655,\n        \"max\": 0.7165948275862069,\n        \"num_unique_values\": 4,\n        \"samples\": [\n          0.7165948275862069,\n          0.7144396551724138,\n          0.6982758620689655\n        ],\n        \"semantic_type\": \"\",\n        \"description\": \"\"\n      }\n    }\n  ]\n}"
            }
          },
          "metadata": {},
          "execution_count": 30
        }
      ]
    },
    {
      "cell_type": "code",
      "source": [
        "duration_128x128_augment/60"
      ],
      "metadata": {
        "id": "xY77g2VUc3Yy",
        "outputId": "fd83d3d7-3a83-4514-80c1-97ec8f3ca8a7",
        "colab": {
          "base_uri": "https://localhost:8080/"
        }
      },
      "execution_count": null,
      "outputs": [
        {
          "output_type": "execute_result",
          "data": {
            "text/plain": [
              "14.197861332266665"
            ]
          },
          "metadata": {},
          "execution_count": 31
        }
      ]
    },
    {
      "cell_type": "markdown",
      "metadata": {
        "id": "Cn6HFBhIU1sJ"
      },
      "source": [
        "# Image with 256x256"
      ]
    },
    {
      "cell_type": "code",
      "execution_count": null,
      "metadata": {
        "id": "sMl1uvXfVgOb"
      },
      "outputs": [],
      "source": [
        "# Create transform\n",
        "with_augmented_transform, simple_transform = create_transforms(128, 128)"
      ]
    },
    {
      "cell_type": "markdown",
      "source": [
        "## Without augmented"
      ],
      "metadata": {
        "id": "xCgyiEWpgmBM"
      }
    },
    {
      "cell_type": "code",
      "source": [
        "# # create dataloader\n",
        "# train_dataloader, test_dataloader, class_names = create_dataloader(train_dir, test_dir, simple_transform, simple_transform, batch_size=BATCH_SIZE, num_workers=NUM_WORKERS)\n",
        "# train_dataloader, test_dataloader, class_names"
      ],
      "metadata": {
        "id": "gz1IN11sgHrI"
      },
      "execution_count": null,
      "outputs": []
    },
    {
      "cell_type": "code",
      "execution_count": null,
      "metadata": {
        "id": "ZtTG1gZCWOK9"
      },
      "outputs": [],
      "source": [
        "# model_3 = CNN_model(input_shape=3, initial_hidden_units=8, output_shape=len(class_names)).to(device)\n",
        "\n",
        "# loss_fn = torch.nn.CrossEntropyLoss()\n",
        "# optimizer = torch.optim.Adam(params=model_3.parameters())\n",
        "\n",
        "# start_time = timer()\n",
        "# results_256x256 = train(model=model_3,\n",
        "#                       train_dataloader=train_dataloader,\n",
        "#                       test_dataloader=test_dataloader,\n",
        "#                       loss_fn=loss_fn,\n",
        "#                       optimizer=optimizer,\n",
        "#                       epochs=40,\n",
        "#                       device=device)\n",
        "# end_time = timer()\n",
        "\n",
        "# duration_256x256 = end_time - start_time"
      ]
    },
    {
      "cell_type": "code",
      "execution_count": null,
      "metadata": {
        "id": "rjbu92HIWX1j"
      },
      "outputs": [],
      "source": [
        "# df_256x256 = pd.DataFrame(results_256x256)\n",
        "# df_256x256.head()"
      ]
    },
    {
      "cell_type": "markdown",
      "source": [
        "## With augmented"
      ],
      "metadata": {
        "id": "zQ4CuwOOgzMN"
      }
    },
    {
      "cell_type": "code",
      "source": [
        "# create dataloader\n",
        "train_dataloader, test_dataloader, class_names = create_dataloader(train_dir=train_dir_2,\n",
        "                                                                   test_dir= test_dir_2,\n",
        "                                                                   train_transform= with_augmented_transform,\n",
        "                                                                   test_transform= simple_transform,\n",
        "                                                                   batch_size= BATCH_SIZE,\n",
        "                                                                   num_workers=NUM_WORKERS)\n",
        "train_dataloader, test_dataloader, class_names"
      ],
      "metadata": {
        "id": "Z93ONNGBg1u8",
        "outputId": "fefa867b-d969-4a18-878c-b61adad330b9",
        "colab": {
          "base_uri": "https://localhost:8080/"
        }
      },
      "execution_count": null,
      "outputs": [
        {
          "output_type": "execute_result",
          "data": {
            "text/plain": [
              "(<torch.utils.data.dataloader.DataLoader at 0x78ebc006aec0>,\n",
              " <torch.utils.data.dataloader.DataLoader at 0x78ebc0068730>,\n",
              " ['battery', 'glass', 'metal', 'organic', 'paper', 'plastic'])"
            ]
          },
          "metadata": {},
          "execution_count": 36
        }
      ]
    },
    {
      "cell_type": "code",
      "source": [
        "model_3_augment = CNN_model(input_shape=3, initial_hidden_units=8, output_shape=len(class_names)).to(device)\n",
        "\n",
        "loss_fn = torch.nn.CrossEntropyLoss()\n",
        "optimizer = torch.optim.Adam(params=model_3_augment.parameters(), lr=1e-3)\n",
        "\n",
        "start_time = timer()\n",
        "results_256x256_augment = train(model=model_3_augment,\n",
        "                      train_dataloader=train_dataloader,\n",
        "                      test_dataloader=test_dataloader,\n",
        "                      loss_fn=loss_fn,\n",
        "                      optimizer=optimizer,\n",
        "                      epochs=50,\n",
        "                      device=device)\n",
        "end_time = timer()\n",
        "\n",
        "duration_256x256_augment = end_time - start_time"
      ],
      "metadata": {
        "id": "pg1puihmhEyF",
        "outputId": "7e8e3576-c136-4372-dfeb-0397ce4d0589",
        "colab": {
          "base_uri": "https://localhost:8080/",
          "height": 153,
          "referenced_widgets": [
            "821ad00ac6264f6fbe77994e3a8b9bd3",
            "267998b0dfff4a7a8ebbf7007611376e",
            "bb3b217510e044d986bcfc36100087d4",
            "32666656bf184b3f8261fdbaed270b16",
            "d339d9a2a3fc43d180ac1211919b132a",
            "d74c05727c7649b4ab3e644d43725529",
            "acbdca9d25bf494190c2aa6c43711a7d",
            "dd28e50c569e4ab898a15c4528b92a3b",
            "e508c030d26e47139b422430de740623",
            "189564cc9cf344e1863947ec7a44344e",
            "088759e965d94834b7fd3c1e4f2f8215"
          ]
        }
      },
      "execution_count": null,
      "outputs": [
        {
          "output_type": "display_data",
          "data": {
            "text/plain": [
              "  0%|          | 0/50 [00:00<?, ?it/s]"
            ],
            "application/vnd.jupyter.widget-view+json": {
              "version_major": 2,
              "version_minor": 0,
              "model_id": "821ad00ac6264f6fbe77994e3a8b9bd3"
            }
          },
          "metadata": {}
        },
        {
          "output_type": "stream",
          "name": "stdout",
          "text": [
            "2304\n",
            "Epoch 10 | Train loss: 1.0314 | Train acc: 0.6045 | Test_loss: 0.9955 | Test acc: 0.6088\n",
            "Epoch 20 | Train loss: 0.8623 | Train acc: 0.6746 | Test_loss: 0.8617 | Test acc: 0.6907\n",
            "Epoch 30 | Train loss: 0.7767 | Train acc: 0.7134 | Test_loss: 0.8206 | Test acc: 0.7058\n",
            "Epoch 40 | Train loss: 0.7037 | Train acc: 0.7435 | Test_loss: 0.8273 | Test acc: 0.7069\n",
            "Epoch 50 | Train loss: 0.6659 | Train acc: 0.7627 | Test_loss: 0.8171 | Test acc: 0.7284\n"
          ]
        }
      ]
    },
    {
      "cell_type": "code",
      "source": [
        "df_256x256_augment = pd.DataFrame(results_256x256_augment)\n",
        "df_256x256_augment.tail()"
      ],
      "metadata": {
        "id": "hJJTUToblQFW",
        "colab": {
          "base_uri": "https://localhost:8080/",
          "height": 206
        },
        "outputId": "f5ec44ca-380d-4211-af12-0eae75da5252"
      },
      "execution_count": null,
      "outputs": [
        {
          "output_type": "execute_result",
          "data": {
            "text/plain": [
              "    train_loss  train_acc  test_loss  test_acc\n",
              "45    0.665404   0.757004   0.796755  0.720905\n",
              "46    0.687860   0.748653   0.832741  0.704741\n",
              "47    0.658386   0.765086   0.800942  0.726293\n",
              "48    0.638350   0.769127   0.819104  0.728448\n",
              "49    0.665882   0.762662   0.817088  0.728448"
            ],
            "text/html": [
              "\n",
              "  <div id=\"df-7fd56af5-1faa-44e8-8ebf-8fe78734ac71\" class=\"colab-df-container\">\n",
              "    <div>\n",
              "<style scoped>\n",
              "    .dataframe tbody tr th:only-of-type {\n",
              "        vertical-align: middle;\n",
              "    }\n",
              "\n",
              "    .dataframe tbody tr th {\n",
              "        vertical-align: top;\n",
              "    }\n",
              "\n",
              "    .dataframe thead th {\n",
              "        text-align: right;\n",
              "    }\n",
              "</style>\n",
              "<table border=\"1\" class=\"dataframe\">\n",
              "  <thead>\n",
              "    <tr style=\"text-align: right;\">\n",
              "      <th></th>\n",
              "      <th>train_loss</th>\n",
              "      <th>train_acc</th>\n",
              "      <th>test_loss</th>\n",
              "      <th>test_acc</th>\n",
              "    </tr>\n",
              "  </thead>\n",
              "  <tbody>\n",
              "    <tr>\n",
              "      <th>45</th>\n",
              "      <td>0.665404</td>\n",
              "      <td>0.757004</td>\n",
              "      <td>0.796755</td>\n",
              "      <td>0.720905</td>\n",
              "    </tr>\n",
              "    <tr>\n",
              "      <th>46</th>\n",
              "      <td>0.687860</td>\n",
              "      <td>0.748653</td>\n",
              "      <td>0.832741</td>\n",
              "      <td>0.704741</td>\n",
              "    </tr>\n",
              "    <tr>\n",
              "      <th>47</th>\n",
              "      <td>0.658386</td>\n",
              "      <td>0.765086</td>\n",
              "      <td>0.800942</td>\n",
              "      <td>0.726293</td>\n",
              "    </tr>\n",
              "    <tr>\n",
              "      <th>48</th>\n",
              "      <td>0.638350</td>\n",
              "      <td>0.769127</td>\n",
              "      <td>0.819104</td>\n",
              "      <td>0.728448</td>\n",
              "    </tr>\n",
              "    <tr>\n",
              "      <th>49</th>\n",
              "      <td>0.665882</td>\n",
              "      <td>0.762662</td>\n",
              "      <td>0.817088</td>\n",
              "      <td>0.728448</td>\n",
              "    </tr>\n",
              "  </tbody>\n",
              "</table>\n",
              "</div>\n",
              "    <div class=\"colab-df-buttons\">\n",
              "\n",
              "  <div class=\"colab-df-container\">\n",
              "    <button class=\"colab-df-convert\" onclick=\"convertToInteractive('df-7fd56af5-1faa-44e8-8ebf-8fe78734ac71')\"\n",
              "            title=\"Convert this dataframe to an interactive table.\"\n",
              "            style=\"display:none;\">\n",
              "\n",
              "  <svg xmlns=\"http://www.w3.org/2000/svg\" height=\"24px\" viewBox=\"0 -960 960 960\">\n",
              "    <path d=\"M120-120v-720h720v720H120Zm60-500h600v-160H180v160Zm220 220h160v-160H400v160Zm0 220h160v-160H400v160ZM180-400h160v-160H180v160Zm440 0h160v-160H620v160ZM180-180h160v-160H180v160Zm440 0h160v-160H620v160Z\"/>\n",
              "  </svg>\n",
              "    </button>\n",
              "\n",
              "  <style>\n",
              "    .colab-df-container {\n",
              "      display:flex;\n",
              "      gap: 12px;\n",
              "    }\n",
              "\n",
              "    .colab-df-convert {\n",
              "      background-color: #E8F0FE;\n",
              "      border: none;\n",
              "      border-radius: 50%;\n",
              "      cursor: pointer;\n",
              "      display: none;\n",
              "      fill: #1967D2;\n",
              "      height: 32px;\n",
              "      padding: 0 0 0 0;\n",
              "      width: 32px;\n",
              "    }\n",
              "\n",
              "    .colab-df-convert:hover {\n",
              "      background-color: #E2EBFA;\n",
              "      box-shadow: 0px 1px 2px rgba(60, 64, 67, 0.3), 0px 1px 3px 1px rgba(60, 64, 67, 0.15);\n",
              "      fill: #174EA6;\n",
              "    }\n",
              "\n",
              "    .colab-df-buttons div {\n",
              "      margin-bottom: 4px;\n",
              "    }\n",
              "\n",
              "    [theme=dark] .colab-df-convert {\n",
              "      background-color: #3B4455;\n",
              "      fill: #D2E3FC;\n",
              "    }\n",
              "\n",
              "    [theme=dark] .colab-df-convert:hover {\n",
              "      background-color: #434B5C;\n",
              "      box-shadow: 0px 1px 3px 1px rgba(0, 0, 0, 0.15);\n",
              "      filter: drop-shadow(0px 1px 2px rgba(0, 0, 0, 0.3));\n",
              "      fill: #FFFFFF;\n",
              "    }\n",
              "  </style>\n",
              "\n",
              "    <script>\n",
              "      const buttonEl =\n",
              "        document.querySelector('#df-7fd56af5-1faa-44e8-8ebf-8fe78734ac71 button.colab-df-convert');\n",
              "      buttonEl.style.display =\n",
              "        google.colab.kernel.accessAllowed ? 'block' : 'none';\n",
              "\n",
              "      async function convertToInteractive(key) {\n",
              "        const element = document.querySelector('#df-7fd56af5-1faa-44e8-8ebf-8fe78734ac71');\n",
              "        const dataTable =\n",
              "          await google.colab.kernel.invokeFunction('convertToInteractive',\n",
              "                                                    [key], {});\n",
              "        if (!dataTable) return;\n",
              "\n",
              "        const docLinkHtml = 'Like what you see? Visit the ' +\n",
              "          '<a target=\"_blank\" href=https://colab.research.google.com/notebooks/data_table.ipynb>data table notebook</a>'\n",
              "          + ' to learn more about interactive tables.';\n",
              "        element.innerHTML = '';\n",
              "        dataTable['output_type'] = 'display_data';\n",
              "        await google.colab.output.renderOutput(dataTable, element);\n",
              "        const docLink = document.createElement('div');\n",
              "        docLink.innerHTML = docLinkHtml;\n",
              "        element.appendChild(docLink);\n",
              "      }\n",
              "    </script>\n",
              "  </div>\n",
              "\n",
              "\n",
              "<div id=\"df-c8915ab8-f975-4142-b154-a32c99e189d2\">\n",
              "  <button class=\"colab-df-quickchart\" onclick=\"quickchart('df-c8915ab8-f975-4142-b154-a32c99e189d2')\"\n",
              "            title=\"Suggest charts\"\n",
              "            style=\"display:none;\">\n",
              "\n",
              "<svg xmlns=\"http://www.w3.org/2000/svg\" height=\"24px\"viewBox=\"0 0 24 24\"\n",
              "     width=\"24px\">\n",
              "    <g>\n",
              "        <path d=\"M19 3H5c-1.1 0-2 .9-2 2v14c0 1.1.9 2 2 2h14c1.1 0 2-.9 2-2V5c0-1.1-.9-2-2-2zM9 17H7v-7h2v7zm4 0h-2V7h2v10zm4 0h-2v-4h2v4z\"/>\n",
              "    </g>\n",
              "</svg>\n",
              "  </button>\n",
              "\n",
              "<style>\n",
              "  .colab-df-quickchart {\n",
              "      --bg-color: #E8F0FE;\n",
              "      --fill-color: #1967D2;\n",
              "      --hover-bg-color: #E2EBFA;\n",
              "      --hover-fill-color: #174EA6;\n",
              "      --disabled-fill-color: #AAA;\n",
              "      --disabled-bg-color: #DDD;\n",
              "  }\n",
              "\n",
              "  [theme=dark] .colab-df-quickchart {\n",
              "      --bg-color: #3B4455;\n",
              "      --fill-color: #D2E3FC;\n",
              "      --hover-bg-color: #434B5C;\n",
              "      --hover-fill-color: #FFFFFF;\n",
              "      --disabled-bg-color: #3B4455;\n",
              "      --disabled-fill-color: #666;\n",
              "  }\n",
              "\n",
              "  .colab-df-quickchart {\n",
              "    background-color: var(--bg-color);\n",
              "    border: none;\n",
              "    border-radius: 50%;\n",
              "    cursor: pointer;\n",
              "    display: none;\n",
              "    fill: var(--fill-color);\n",
              "    height: 32px;\n",
              "    padding: 0;\n",
              "    width: 32px;\n",
              "  }\n",
              "\n",
              "  .colab-df-quickchart:hover {\n",
              "    background-color: var(--hover-bg-color);\n",
              "    box-shadow: 0 1px 2px rgba(60, 64, 67, 0.3), 0 1px 3px 1px rgba(60, 64, 67, 0.15);\n",
              "    fill: var(--button-hover-fill-color);\n",
              "  }\n",
              "\n",
              "  .colab-df-quickchart-complete:disabled,\n",
              "  .colab-df-quickchart-complete:disabled:hover {\n",
              "    background-color: var(--disabled-bg-color);\n",
              "    fill: var(--disabled-fill-color);\n",
              "    box-shadow: none;\n",
              "  }\n",
              "\n",
              "  .colab-df-spinner {\n",
              "    border: 2px solid var(--fill-color);\n",
              "    border-color: transparent;\n",
              "    border-bottom-color: var(--fill-color);\n",
              "    animation:\n",
              "      spin 1s steps(1) infinite;\n",
              "  }\n",
              "\n",
              "  @keyframes spin {\n",
              "    0% {\n",
              "      border-color: transparent;\n",
              "      border-bottom-color: var(--fill-color);\n",
              "      border-left-color: var(--fill-color);\n",
              "    }\n",
              "    20% {\n",
              "      border-color: transparent;\n",
              "      border-left-color: var(--fill-color);\n",
              "      border-top-color: var(--fill-color);\n",
              "    }\n",
              "    30% {\n",
              "      border-color: transparent;\n",
              "      border-left-color: var(--fill-color);\n",
              "      border-top-color: var(--fill-color);\n",
              "      border-right-color: var(--fill-color);\n",
              "    }\n",
              "    40% {\n",
              "      border-color: transparent;\n",
              "      border-right-color: var(--fill-color);\n",
              "      border-top-color: var(--fill-color);\n",
              "    }\n",
              "    60% {\n",
              "      border-color: transparent;\n",
              "      border-right-color: var(--fill-color);\n",
              "    }\n",
              "    80% {\n",
              "      border-color: transparent;\n",
              "      border-right-color: var(--fill-color);\n",
              "      border-bottom-color: var(--fill-color);\n",
              "    }\n",
              "    90% {\n",
              "      border-color: transparent;\n",
              "      border-bottom-color: var(--fill-color);\n",
              "    }\n",
              "  }\n",
              "</style>\n",
              "\n",
              "  <script>\n",
              "    async function quickchart(key) {\n",
              "      const quickchartButtonEl =\n",
              "        document.querySelector('#' + key + ' button');\n",
              "      quickchartButtonEl.disabled = true;  // To prevent multiple clicks.\n",
              "      quickchartButtonEl.classList.add('colab-df-spinner');\n",
              "      try {\n",
              "        const charts = await google.colab.kernel.invokeFunction(\n",
              "            'suggestCharts', [key], {});\n",
              "      } catch (error) {\n",
              "        console.error('Error during call to suggestCharts:', error);\n",
              "      }\n",
              "      quickchartButtonEl.classList.remove('colab-df-spinner');\n",
              "      quickchartButtonEl.classList.add('colab-df-quickchart-complete');\n",
              "    }\n",
              "    (() => {\n",
              "      let quickchartButtonEl =\n",
              "        document.querySelector('#df-c8915ab8-f975-4142-b154-a32c99e189d2 button');\n",
              "      quickchartButtonEl.style.display =\n",
              "        google.colab.kernel.accessAllowed ? 'block' : 'none';\n",
              "    })();\n",
              "  </script>\n",
              "</div>\n",
              "\n",
              "    </div>\n",
              "  </div>\n"
            ],
            "application/vnd.google.colaboratory.intrinsic+json": {
              "type": "dataframe",
              "summary": "{\n  \"name\": \"df_256x256_augment\",\n  \"rows\": 5,\n  \"fields\": [\n    {\n      \"column\": \"train_loss\",\n      \"properties\": {\n        \"dtype\": \"number\",\n        \"std\": 0.01775412502693143,\n        \"min\": 0.6383502185344696,\n        \"max\": 0.6878597309877132,\n        \"num_unique_values\": 5,\n        \"samples\": [\n          0.6878597309877132,\n          0.6658815392132463,\n          0.6583856470112143\n        ],\n        \"semantic_type\": \"\",\n        \"description\": \"\"\n      }\n    },\n    {\n      \"column\": \"train_acc\",\n      \"properties\": {\n        \"dtype\": \"number\",\n        \"std\": 0.007948339704704693,\n        \"min\": 0.7486530172413793,\n        \"max\": 0.7691271551724138,\n        \"num_unique_values\": 5,\n        \"samples\": [\n          0.7486530172413793,\n          0.7626616379310345,\n          0.7650862068965517\n        ],\n        \"semantic_type\": \"\",\n        \"description\": \"\"\n      }\n    },\n    {\n      \"column\": \"test_loss\",\n      \"properties\": {\n        \"dtype\": \"number\",\n        \"std\": 0.014598623354359515,\n        \"min\": 0.7967547697239908,\n        \"max\": 0.8327414855874818,\n        \"num_unique_values\": 5,\n        \"samples\": [\n          0.8327414855874818,\n          0.8170878142118454,\n          0.8009416209212665\n        ],\n        \"semantic_type\": \"\",\n        \"description\": \"\"\n      }\n    },\n    {\n      \"column\": \"test_acc\",\n      \"properties\": {\n        \"dtype\": \"number\",\n        \"std\": 0.010004736541754433,\n        \"min\": 0.7047413793103449,\n        \"max\": 0.728448275862069,\n        \"num_unique_values\": 4,\n        \"samples\": [\n          0.7047413793103449,\n          0.728448275862069,\n          0.7209051724137931\n        ],\n        \"semantic_type\": \"\",\n        \"description\": \"\"\n      }\n    }\n  ]\n}"
            }
          },
          "metadata": {},
          "execution_count": 38
        }
      ]
    },
    {
      "cell_type": "markdown",
      "metadata": {
        "id": "wv6giCgaWjxX"
      },
      "source": [
        "# Compare model results"
      ]
    },
    {
      "cell_type": "code",
      "execution_count": null,
      "metadata": {
        "id": "5szI526kWh-5"
      },
      "outputs": [],
      "source": [
        "# # Setup a plot\n",
        "# plt.figure(figsize=(15, 10))\n",
        "\n",
        "# # Get number of epochs\n",
        "# epochs = range(len(df_64x64))\n",
        "\n",
        "# # Plot train loss\n",
        "# plt.subplot(2, 2, 1)\n",
        "# plt.plot(epochs, df_64x64[\"train_loss\"], label=\"64x64\")\n",
        "# plt.plot(epochs, df_128x128[\"train_loss\"], label=\"128x128\")\n",
        "# plt.plot(epochs, df_256x256[\"train_loss\"], label=\"256x256\")\n",
        "# plt.title(\"Train Loss\")\n",
        "# plt.xlabel(\"Epochs\")\n",
        "# plt.legend()\n",
        "\n",
        "# # Plot test loss\n",
        "# plt.subplot(2, 2, 2)\n",
        "# plt.plot(epochs, df_64x64[\"test_loss\"], label=\"64x64\")\n",
        "# plt.plot(epochs, df_128x128[\"test_loss\"], label=\"128x128\")\n",
        "# plt.plot(epochs, df_256x256[\"test_loss\"], label=\"256x256\")\n",
        "# plt.title(\"Test Loss\")\n",
        "# plt.xlabel(\"Epochs\")\n",
        "# plt.legend()\n",
        "\n",
        "# # Plot train accuracy\n",
        "# plt.subplot(2, 2, 3)\n",
        "# plt.plot(epochs, df_64x64[\"train_acc\"], label=\"64x64\")\n",
        "# plt.plot(epochs, df_128x128[\"train_acc\"], label=\"128x128\")\n",
        "# plt.plot(epochs, df_256x256[\"train_acc\"], label=\"256x256\")\n",
        "# plt.title(\"Train Accuracy\")\n",
        "# plt.xlabel(\"Epochs\")\n",
        "# plt.legend()\n",
        "\n",
        "# # Plot test accuracy\n",
        "# plt.subplot(2, 2, 4)\n",
        "# plt.plot(epochs, df_64x64[\"test_acc\"], label=\"64x64\")\n",
        "# plt.plot(epochs, df_128x128[\"test_acc\"], label=\"128x128\")\n",
        "# plt.plot(epochs, df_256x256[\"test_acc\"], label=\"256x256\")\n",
        "# plt.title(\"Test Accuracy\")\n",
        "# plt.xlabel(\"Epochs\")\n",
        "# plt.legend();"
      ]
    },
    {
      "cell_type": "markdown",
      "source": [
        "# Visualisasi the result without augment"
      ],
      "metadata": {
        "id": "xgKF-vq-kubu"
      }
    },
    {
      "cell_type": "code",
      "execution_count": null,
      "metadata": {
        "id": "nOqOAvr1bVHT"
      },
      "outputs": [],
      "source": [
        "# # Setup a plot with larger size for clarity\n",
        "# plt.figure(figsize=(15, 10))\n",
        "\n",
        "# # Get number of epochs\n",
        "# epochs = range(len(df_64x64))\n",
        "\n",
        "# # Customize plot appearance\n",
        "# plt.rcParams.update({'font.size': 12})\n",
        "\n",
        "# # Plot train loss\n",
        "# plt.subplot(2, 2, 1)\n",
        "# plt.plot(epochs, df_64x64[\"train_loss\"], label=\"64x64\", linestyle='-', marker='o', color='b')\n",
        "# plt.plot(epochs, df_128x128[\"train_loss\"], label=\"128x128\", linestyle='--', marker='s', color='g')\n",
        "# plt.plot(epochs, df_256x256[\"train_loss\"], label=\"256x256\", linestyle='-.', marker='^', color='r')\n",
        "# plt.title(\"Train Loss\", fontsize=14)\n",
        "# plt.xlabel(\"Epochs\")\n",
        "# plt.ylabel(\"Loss\")\n",
        "# plt.grid(True)\n",
        "# plt.legend(loc=\"upper right\")\n",
        "\n",
        "# # Plot test loss\n",
        "# plt.subplot(2, 2, 2)\n",
        "# plt.plot(epochs, df_64x64[\"test_loss\"], label=\"64x64\", linestyle='-', marker='o', color='b')\n",
        "# plt.plot(epochs, df_128x128[\"test_loss\"], label=\"128x128\", linestyle='--', marker='s', color='g')\n",
        "# plt.plot(epochs, df_256x256[\"test_loss\"], label=\"256x256\", linestyle='-.', marker='^', color='r')\n",
        "# plt.title(\"Test Loss\", fontsize=14)\n",
        "# plt.xlabel(\"Epochs\")\n",
        "# plt.ylabel(\"Loss\")\n",
        "# plt.grid(True)\n",
        "# plt.legend(loc=\"upper right\")\n",
        "\n",
        "# # Plot train accuracy\n",
        "# plt.subplot(2, 2, 3)\n",
        "# plt.plot(epochs, df_64x64[\"train_acc\"], label=\"64x64\", linestyle='-', marker='o', color='b')\n",
        "# plt.plot(epochs, df_128x128[\"train_acc\"], label=\"128x128\", linestyle='--', marker='s', color='g')\n",
        "# plt.plot(epochs, df_256x256[\"train_acc\"], label=\"256x256\", linestyle='-.', marker='^', color='r')\n",
        "# plt.title(\"Train Accuracy\", fontsize=14)\n",
        "# plt.xlabel(\"Epochs\")\n",
        "# plt.ylabel(\"Accuracy\")\n",
        "# plt.grid(True)\n",
        "# plt.legend(loc=\"lower right\")\n",
        "\n",
        "# # Plot test accuracy\n",
        "# plt.subplot(2, 2, 4)\n",
        "# plt.plot(epochs, df_64x64[\"test_acc\"], label=\"64x64\", linestyle='-', marker='o', color='b')\n",
        "# plt.plot(epochs, df_128x128[\"test_acc\"], label=\"128x128\", linestyle='--', marker='s', color='g')\n",
        "# plt.plot(epochs, df_256x256[\"test_acc\"], label=\"256x256\", linestyle='-.', marker='^', color='r')\n",
        "# plt.title(\"Test Accuracy\", fontsize=14)\n",
        "# plt.xlabel(\"Epochs\")\n",
        "# plt.ylabel(\"Accuracy\")\n",
        "# plt.grid(True)\n",
        "# plt.legend(loc=\"lower right\")\n",
        "\n",
        "# # Adjust layout\n",
        "# plt.tight_layout()\n",
        "# plt.show()"
      ]
    },
    {
      "cell_type": "code",
      "execution_count": null,
      "metadata": {
        "id": "sN-662u4XoNN"
      },
      "outputs": [],
      "source": [
        "# data_durasi = [duration_64x64, duration_128x128, duration_256x256]\n",
        "# labels = ['64x64', '128x128', '256x256']\n",
        "\n",
        "# # Plotting histogram\n",
        "# plt.figure(figsize=(8,6))\n",
        "# bars = plt.bar(labels, data_durasi, color='skyblue')\n",
        "\n",
        "# for bar in bars:\n",
        "#     yval = bar.get_height()\n",
        "#     plt.text(bar.get_x() + bar.get_width()/2, yval + 5, f'{yval/60:.2f} Menit', ha='center', va='bottom')\n",
        "\n",
        "\n",
        "# plt.xlabel('Resolution')\n",
        "# plt.ylabel('Duration (second)')\n",
        "# plt.title('Durations by Resolution')\n",
        "# plt.show()"
      ]
    },
    {
      "cell_type": "markdown",
      "source": [
        "# Visualisasi the result with augment"
      ],
      "metadata": {
        "id": "8C2fT-fdlwJ0"
      }
    },
    {
      "cell_type": "code",
      "source": [
        "# Setup a plot with larger size for clarity\n",
        "plt.figure(figsize=(15, 10))\n",
        "\n",
        "# Get number of epochs\n",
        "epochs = range(len(df_64x64_augment))\n",
        "\n",
        "# Customize plot appearance\n",
        "plt.rcParams.update({'font.size': 12})\n",
        "\n",
        "# Plot train loss\n",
        "plt.subplot(2, 2, 1)\n",
        "plt.plot(epochs, df_64x64_augment[\"train_loss\"], label=\"64x64\", linestyle='-', marker='o', color='b')\n",
        "plt.plot(epochs, df_128x128_augment[\"train_loss\"], label=\"128x128\", linestyle='--', marker='s', color='g')\n",
        "plt.plot(epochs, df_256x256_augment[\"train_loss\"], label=\"256x256\", linestyle='-.', marker='^', color='r')\n",
        "plt.title(\"Train Loss\", fontsize=14)\n",
        "plt.xlabel(\"Epochs\")\n",
        "plt.ylabel(\"Loss\")\n",
        "plt.grid(True)\n",
        "plt.legend(loc=\"upper right\")\n",
        "\n",
        "# Plot test loss\n",
        "plt.subplot(2, 2, 2)\n",
        "plt.plot(epochs, df_64x64_augment[\"test_loss\"], label=\"64x64\", linestyle='-', marker='o', color='b')\n",
        "plt.plot(epochs, df_128x128_augment[\"test_loss\"], label=\"128x128\", linestyle='--', marker='s', color='g')\n",
        "plt.plot(epochs, df_256x256_augment[\"test_loss\"], label=\"256x256\", linestyle='-.', marker='^', color='r')\n",
        "plt.title(\"Test Loss\", fontsize=14)\n",
        "plt.xlabel(\"Epochs\")\n",
        "plt.ylabel(\"Loss\")\n",
        "plt.grid(True)\n",
        "plt.legend(loc=\"upper right\")\n",
        "\n",
        "# Plot train accuracy\n",
        "plt.subplot(2, 2, 3)\n",
        "plt.plot(epochs, df_64x64_augment[\"train_acc\"], label=\"64x64\", linestyle='-', marker='o', color='b')\n",
        "plt.plot(epochs, df_128x128_augment[\"train_acc\"], label=\"128x128\", linestyle='--', marker='s', color='g')\n",
        "plt.plot(epochs, df_256x256_augment[\"train_acc\"], label=\"256x256\", linestyle='-.', marker='^', color='r')\n",
        "plt.title(\"Train Accuracy\", fontsize=14)\n",
        "plt.xlabel(\"Epochs\")\n",
        "plt.ylabel(\"Accuracy\")\n",
        "plt.grid(True)\n",
        "plt.legend(loc=\"lower right\")\n",
        "\n",
        "# Plot test accuracy\n",
        "plt.subplot(2, 2, 4)\n",
        "plt.plot(epochs, df_64x64_augment[\"test_acc\"], label=\"64x64\", linestyle='-', marker='o', color='b')\n",
        "plt.plot(epochs, df_128x128_augment[\"test_acc\"], label=\"128x128\", linestyle='--', marker='s', color='g')\n",
        "plt.plot(epochs, df_256x256_augment[\"test_acc\"], label=\"256x256\", linestyle='-.', marker='^', color='r')\n",
        "plt.title(\"Test Accuracy\", fontsize=14)\n",
        "plt.xlabel(\"Epochs\")\n",
        "plt.ylabel(\"Accuracy\")\n",
        "plt.grid(True)\n",
        "plt.legend(loc=\"lower right\")\n",
        "\n",
        "# Adjust layout\n",
        "plt.tight_layout()\n",
        "plt.show()"
      ],
      "metadata": {
        "id": "zwCXmkeaksAq",
        "colab": {
          "base_uri": "https://localhost:8080/",
          "height": 1000
        },
        "outputId": "3fffb240-0413-4d3e-c290-1bbdb14daba2"
      },
      "execution_count": null,
      "outputs": [
        {
          "output_type": "display_data",
          "data": {
            "text/plain": [
              "<Figure size 1500x1000 with 4 Axes>"
            ],
            "image/png": "[encoded data removed]"
          },
          "metadata": {}
        }
      ]
    },
    {
      "cell_type": "code",
      "source": [
        "# Setup a plot with larger size for clarity\n",
        "plt.figure(figsize=(15, 7))\n",
        "\n",
        "# Get number of epochs\n",
        "epochs = range(len(df_64x64_augment))\n",
        "\n",
        "# Customize plot appearance\n",
        "plt.rcParams.update({'font.size': 12})\n",
        "\n",
        "# Plot train loss\n",
        "plt.subplot(1, 2, 1)\n",
        "plt.plot(epochs, df_64x64_augment[\"train_loss\"], label=\"64x64\", linestyle='-', marker='o', color='b')\n",
        "plt.plot(epochs, df_128x128_augment[\"train_loss\"], label=\"128x128\", linestyle='--', marker='s', color='g')\n",
        "plt.plot(epochs, df_256x256_augment[\"train_loss\"], label=\"256x256\", linestyle='-.', marker='^', color='r')\n",
        "plt.title(\"Train Loss\", fontsize=14)\n",
        "plt.xlabel(\"Epochs\")\n",
        "plt.ylabel(\"Loss\")\n",
        "plt.grid(True)\n",
        "plt.legend(loc=\"upper right\")\n",
        "\n",
        "# Plot test loss\n",
        "plt.subplot(1, 2, 2)\n",
        "plt.plot(epochs, df_64x64_augment[\"test_loss\"], label=\"64x64\", linestyle='-', marker='o', color='b')\n",
        "plt.plot(epochs, df_128x128_augment[\"test_loss\"], label=\"128x128\", linestyle='--', marker='s', color='g')\n",
        "plt.plot(epochs, df_256x256_augment[\"test_loss\"], label=\"256x256\", linestyle='-.', marker='^', color='r')\n",
        "plt.title(\"Test Loss\", fontsize=14)\n",
        "plt.xlabel(\"Epochs\")\n",
        "plt.ylabel(\"Loss\")\n",
        "plt.grid(True)\n",
        "plt.legend(loc=\"upper right\")\n",
        "\n",
        "plt.tight_layout()\n",
        "plt.show()"
      ],
      "metadata": {
        "id": "YiY60kk1Ah9V",
        "colab": {
          "base_uri": "https://localhost:8080/",
          "height": 701
        },
        "outputId": "2b7e4c34-4b3f-4752-8abb-67fa997160d3"
      },
      "execution_count": null,
      "outputs": [
        {
          "output_type": "display_data",
          "data": {
            "text/plain": [
              "<Figure size 1500x700 with 2 Axes>"
            ],
            "image/png": "[encoded data removed]"
          },
          "metadata": {}
        }
      ]
    },
    {
      "cell_type": "code",
      "source": [
        "plt.figure(figsize=(15, 7))\n",
        "\n",
        "# Get number of epochs\n",
        "epochs = range(len(df_64x64_augment))\n",
        "\n",
        "# Customize plot appearance\n",
        "plt.rcParams.update({'font.size': 12})\n",
        "\n",
        "# Plot train accuracy\n",
        "plt.subplot(1, 2, 1)\n",
        "plt.plot(epochs, df_64x64_augment[\"train_acc\"], label=\"64x64\", linestyle='-', marker='o', color='b')\n",
        "plt.plot(epochs, df_128x128_augment[\"train_acc\"], label=\"128x128\", linestyle='--', marker='s', color='g')\n",
        "plt.plot(epochs, df_256x256_augment[\"train_acc\"], label=\"256x256\", linestyle='-.', marker='^', color='r')\n",
        "plt.title(\"Train Accuracy\", fontsize=14)\n",
        "plt.xlabel(\"Epochs\")\n",
        "plt.ylabel(\"Accuracy\")\n",
        "plt.grid(True)\n",
        "plt.legend(loc=\"lower right\")\n",
        "\n",
        "# Plot test accuracy\n",
        "plt.subplot(1, 2, 2)\n",
        "plt.plot(epochs, df_64x64_augment[\"test_acc\"], label=\"64x64\", linestyle='-', marker='o', color='b')\n",
        "plt.plot(epochs, df_128x128_augment[\"test_acc\"], label=\"128x128\", linestyle='--', marker='s', color='g')\n",
        "plt.plot(epochs, df_256x256_augment[\"test_acc\"], label=\"256x256\", linestyle='-.', marker='^', color='r')\n",
        "plt.title(\"Test Accuracy\", fontsize=14)\n",
        "plt.xlabel(\"Epochs\")\n",
        "plt.ylabel(\"Accuracy\")\n",
        "plt.grid(True)\n",
        "plt.legend(loc=\"lower right\")\n",
        "\n",
        "# Adjust layout\n",
        "plt.tight_layout()\n",
        "plt.show()"
      ],
      "metadata": {
        "id": "sF6OW9NoBJE6",
        "colab": {
          "base_uri": "https://localhost:8080/",
          "height": 701
        },
        "outputId": "999cb85d-c3be-449a-c87a-eba19194640a"
      },
      "execution_count": null,
      "outputs": [
        {
          "output_type": "display_data",
          "data": {
            "text/plain": [
              "<Figure size 1500x700 with 2 Axes>"
            ],
            "image/png": "[encoded data removed]"
          },
          "metadata": {}
        }
      ]
    },
    {
      "cell_type": "code",
      "source": [
        "data_durasi = [duration_64x64_augment, duration_128x128_augment, duration_256x256_augment]\n",
        "labels = ['64x64', '128x128', '256x256']\n",
        "\n",
        "# Plotting histogram\n",
        "plt.figure(figsize=(8,6))\n",
        "bars = plt.bar(labels, data_durasi, color='skyblue')\n",
        "\n",
        "for bar in bars:\n",
        "    yval = bar.get_height()\n",
        "    plt.text(bar.get_x() + bar.get_width()/2, yval + 5, f'{yval/60:.2f} Menit', ha='center', va='bottom')\n",
        "\n",
        "\n",
        "plt.xlabel('Resolution')\n",
        "plt.ylabel('Duration (second)')\n",
        "plt.title('Durations by Resolution')\n",
        "plt.show()"
      ],
      "metadata": {
        "id": "W2q3j0Qllet7",
        "colab": {
          "base_uri": "https://localhost:8080/",
          "height": 573
        },
        "outputId": "ee3808d9-2f89-4f43-d65a-5c12e39e6679"
      },
      "execution_count": null,
      "outputs": [
        {
          "output_type": "display_data",
          "data": {
            "text/plain": [
              "<Figure size 800x600 with 1 Axes>"
            ],
            "image/png": "[encoded data removed]"
          },
          "metadata": {}
        }
      ]
    },
    {
      "cell_type": "code",
      "source": [],
      "metadata": {
        "id": "MoNDrf01ls-1"
      },
      "execution_count": null,
      "outputs": []
    }
  ],
  "metadata": {
    "accelerator": "GPU",
    "colab": {
      "gpuType": "T4",
      "provenance": [],
      "include_colab_link": true
    },
    "kernelspec": {
      "display_name": "Python 3",
      "name": "python3"
    },
    "language_info": {
      "name": "python"
    },
    "widgets": {
      "application/vnd.jupyter.widget-state+json": {
        "2578d54d2a394914989f9a62017c2e5f": {
          "model_module": "@jupyter-widgets/controls",
          "model_name": "HBoxModel",
          "model_module_version": "1.5.0",
          "state": {
            "_dom_classes": [],
            "_model_module": "@jupyter-widgets/controls",
            "_model_module_version": "1.5.0",
            "_model_name": "HBoxModel",
            "_view_count": null,
            "_view_module": "@jupyter-widgets/controls",
            "_view_module_version": "1.5.0",
            "_view_name": "HBoxView",
            "box_style": "",
            "children": [
              "IPY_MODEL_fe0398657d144c55a1f623eb36ea73a0",
              "IPY_MODEL_fb4ca889cb09410da1c87a2f844d5992",
              "IPY_MODEL_fd5d6b6cba104386b44a10d02f968381"
            ],
            "layout": "IPY_MODEL_f9313b8161a549228602e2250233bebc"
          }
        },
        "fe0398657d144c55a1f623eb36ea73a0": {
          "model_module": "@jupyter-widgets/controls",
          "model_name": "HTMLModel",
          "model_module_version": "1.5.0",
          "state": {
            "_dom_classes": [],
            "_model_module": "@jupyter-widgets/controls",
            "_model_module_version": "1.5.0",
            "_model_name": "HTMLModel",
            "_view_count": null,
            "_view_module": "@jupyter-widgets/controls",
            "_view_module_version": "1.5.0",
            "_view_name": "HTMLView",
            "description": "",
            "description_tooltip": null,
            "layout": "IPY_MODEL_43507da3788a4c1a8ca5b89331b36037",
            "placeholder": "​",
            "style": "IPY_MODEL_e70a7b7d315f4fdfbcea9712554e213b",
            "value": "100%"
          }
        },
        "fb4ca889cb09410da1c87a2f844d5992": {
          "model_module": "@jupyter-widgets/controls",
          "model_name": "FloatProgressModel",
          "model_module_version": "1.5.0",
          "state": {
            "_dom_classes": [],
            "_model_module": "@jupyter-widgets/controls",
            "_model_module_version": "1.5.0",
            "_model_name": "FloatProgressModel",
            "_view_count": null,
            "_view_module": "@jupyter-widgets/controls",
            "_view_module_version": "1.5.0",
            "_view_name": "ProgressView",
            "bar_style": "success",
            "description": "",
            "description_tooltip": null,
            "layout": "IPY_MODEL_26d0a2b059834a2d9843e2d0fceaeba8",
            "max": 50,
            "min": 0,
            "orientation": "horizontal",
            "style": "IPY_MODEL_26bbc0d12e6d4c3b967f1ff3aa5b0f90",
            "value": 50
          }
        },
        "fd5d6b6cba104386b44a10d02f968381": {
          "model_module": "@jupyter-widgets/controls",
          "model_name": "HTMLModel",
          "model_module_version": "1.5.0",
          "state": {
            "_dom_classes": [],
            "_model_module": "@jupyter-widgets/controls",
            "_model_module_version": "1.5.0",
            "_model_name": "HTMLModel",
            "_view_count": null,
            "_view_module": "@jupyter-widgets/controls",
            "_view_module_version": "1.5.0",
            "_view_name": "HTMLView",
            "description": "",
            "description_tooltip": null,
            "layout": "IPY_MODEL_825e28d4c0f14715b18fe7b3e329933c",
            "placeholder": "​",
            "style": "IPY_MODEL_98fe91af44e946498d11ae1d1184ef84",
            "value": " 50/50 [09:15&lt;00:00, 11.05s/it]"
          }
        },
        "f9313b8161a549228602e2250233bebc": {
          "model_module": "@jupyter-widgets/base",
          "model_name": "LayoutModel",
          "model_module_version": "1.2.0",
          "state": {
            "_model_module": "@jupyter-widgets/base",
            "_model_module_version": "1.2.0",
            "_model_name": "LayoutModel",
            "_view_count": null,
            "_view_module": "@jupyter-widgets/base",
            "_view_module_version": "1.2.0",
            "_view_name": "LayoutView",
            "align_content": null,
            "align_items": null,
            "align_self": null,
            "border": null,
            "bottom": null,
            "display": null,
            "flex": null,
            "flex_flow": null,
            "grid_area": null,
            "grid_auto_columns": null,
            "grid_auto_flow": null,
            "grid_auto_rows": null,
            "grid_column": null,
            "grid_gap": null,
            "grid_row": null,
            "grid_template_areas": null,
            "grid_template_columns": null,
            "grid_template_rows": null,
            "height": null,
            "justify_content": null,
            "justify_items": null,
            "left": null,
            "margin": null,
            "max_height": null,
            "max_width": null,
            "min_height": null,
            "min_width": null,
            "object_fit": null,
            "object_position": null,
            "order": null,
            "overflow": null,
            "overflow_x": null,
            "overflow_y": null,
            "padding": null,
            "right": null,
            "top": null,
            "visibility": null,
            "width": null
          }
        },
        "43507da3788a4c1a8ca5b89331b36037": {
          "model_module": "@jupyter-widgets/base",
          "model_name": "LayoutModel",
          "model_module_version": "1.2.0",
          "state": {
            "_model_module": "@jupyter-widgets/base",
            "_model_module_version": "1.2.0",
            "_model_name": "LayoutModel",
            "_view_count": null,
            "_view_module": "@jupyter-widgets/base",
            "_view_module_version": "1.2.0",
            "_view_name": "LayoutView",
            "align_content": null,
            "align_items": null,
            "align_self": null,
            "border": null,
            "bottom": null,
            "display": null,
            "flex": null,
            "flex_flow": null,
            "grid_area": null,
            "grid_auto_columns": null,
            "grid_auto_flow": null,
            "grid_auto_rows": null,
            "grid_column": null,
            "grid_gap": null,
            "grid_row": null,
            "grid_template_areas": null,
            "grid_template_columns": null,
            "grid_template_rows": null,
            "height": null,
            "justify_content": null,
            "justify_items": null,
            "left": null,
            "margin": null,
            "max_height": null,
            "max_width": null,
            "min_height": null,
            "min_width": null,
            "object_fit": null,
            "object_position": null,
            "order": null,
            "overflow": null,
            "overflow_x": null,
            "overflow_y": null,
            "padding": null,
            "right": null,
            "top": null,
            "visibility": null,
            "width": null
          }
        },
        "e70a7b7d315f4fdfbcea9712554e213b": {
          "model_module": "@jupyter-widgets/controls",
          "model_name": "DescriptionStyleModel",
          "model_module_version": "1.5.0",
          "state": {
            "_model_module": "@jupyter-widgets/controls",
            "_model_module_version": "1.5.0",
            "_model_name": "DescriptionStyleModel",
            "_view_count": null,
            "_view_module": "@jupyter-widgets/base",
            "_view_module_version": "1.2.0",
            "_view_name": "StyleView",
            "description_width": ""
          }
        },
        "26d0a2b059834a2d9843e2d0fceaeba8": {
          "model_module": "@jupyter-widgets/base",
          "model_name": "LayoutModel",
          "model_module_version": "1.2.0",
          "state": {
            "_model_module": "@jupyter-widgets/base",
            "_model_module_version": "1.2.0",
            "_model_name": "LayoutModel",
            "_view_count": null,
            "_view_module": "@jupyter-widgets/base",
            "_view_module_version": "1.2.0",
            "_view_name": "LayoutView",
            "align_content": null,
            "align_items": null,
            "align_self": null,
            "border": null,
            "bottom": null,
            "display": null,
            "flex": null,
            "flex_flow": null,
            "grid_area": null,
            "grid_auto_columns": null,
            "grid_auto_flow": null,
            "grid_auto_rows": null,
            "grid_column": null,
            "grid_gap": null,
            "grid_row": null,
            "grid_template_areas": null,
            "grid_template_columns": null,
            "grid_template_rows": null,
            "height": null,
            "justify_content": null,
            "justify_items": null,
            "left": null,
            "margin": null,
            "max_height": null,
            "max_width": null,
            "min_height": null,
            "min_width": null,
            "object_fit": null,
            "object_position": null,
            "order": null,
            "overflow": null,
            "overflow_x": null,
            "overflow_y": null,
            "padding": null,
            "right": null,
            "top": null,
            "visibility": null,
            "width": null
          }
        },
        "26bbc0d12e6d4c3b967f1ff3aa5b0f90": {
          "model_module": "@jupyter-widgets/controls",
          "model_name": "ProgressStyleModel",
          "model_module_version": "1.5.0",
          "state": {
            "_model_module": "@jupyter-widgets/controls",
            "_model_module_version": "1.5.0",
            "_model_name": "ProgressStyleModel",
            "_view_count": null,
            "_view_module": "@jupyter-widgets/base",
            "_view_module_version": "1.2.0",
            "_view_name": "StyleView",
            "bar_color": null,
            "description_width": ""
          }
        },
        "825e28d4c0f14715b18fe7b3e329933c": {
          "model_module": "@jupyter-widgets/base",
          "model_name": "LayoutModel",
          "model_module_version": "1.2.0",
          "state": {
            "_model_module": "@jupyter-widgets/base",
            "_model_module_version": "1.2.0",
            "_model_name": "LayoutModel",
            "_view_count": null,
            "_view_module": "@jupyter-widgets/base",
            "_view_module_version": "1.2.0",
            "_view_name": "LayoutView",
            "align_content": null,
            "align_items": null,
            "align_self": null,
            "border": null,
            "bottom": null,
            "display": null,
            "flex": null,
            "flex_flow": null,
            "grid_area": null,
            "grid_auto_columns": null,
            "grid_auto_flow": null,
            "grid_auto_rows": null,
            "grid_column": null,
            "grid_gap": null,
            "grid_row": null,
            "grid_template_areas": null,
            "grid_template_columns": null,
            "grid_template_rows": null,
            "height": null,
            "justify_content": null,
            "justify_items": null,
            "left": null,
            "margin": null,
            "max_height": null,
            "max_width": null,
            "min_height": null,
            "min_width": null,
            "object_fit": null,
            "object_position": null,
            "order": null,
            "overflow": null,
            "overflow_x": null,
            "overflow_y": null,
            "padding": null,
            "right": null,
            "top": null,
            "visibility": null,
            "width": null
          }
        },
        "98fe91af44e946498d11ae1d1184ef84": {
          "model_module": "@jupyter-widgets/controls",
          "model_name": "DescriptionStyleModel",
          "model_module_version": "1.5.0",
          "state": {
            "_model_module": "@jupyter-widgets/controls",
            "_model_module_version": "1.5.0",
            "_model_name": "DescriptionStyleModel",
            "_view_count": null,
            "_view_module": "@jupyter-widgets/base",
            "_view_module_version": "1.2.0",
            "_view_name": "StyleView",
            "description_width": ""
          }
        },
        "e2543279bc9744069032107084fa3d5e": {
          "model_module": "@jupyter-widgets/controls",
          "model_name": "HBoxModel",
          "model_module_version": "1.5.0",
          "state": {
            "_dom_classes": [],
            "_model_module": "@jupyter-widgets/controls",
            "_model_module_version": "1.5.0",
            "_model_name": "HBoxModel",
            "_view_count": null,
            "_view_module": "@jupyter-widgets/controls",
            "_view_module_version": "1.5.0",
            "_view_name": "HBoxView",
            "box_style": "",
            "children": [
              "IPY_MODEL_3bd45e21bb844615a0d9241bd6494bb2",
              "IPY_MODEL_94fba3d0efdd4fca8cd0c57f75f52d5e",
              "IPY_MODEL_2589a57555e24b8c99a424f44ef36e38"
            ],
            "layout": "IPY_MODEL_2a6ea8a313d0497eba6ca325d6447563"
          }
        },
        "3bd45e21bb844615a0d9241bd6494bb2": {
          "model_module": "@jupyter-widgets/controls",
          "model_name": "HTMLModel",
          "model_module_version": "1.5.0",
          "state": {
            "_dom_classes": [],
            "_model_module": "@jupyter-widgets/controls",
            "_model_module_version": "1.5.0",
            "_model_name": "HTMLModel",
            "_view_count": null,
            "_view_module": "@jupyter-widgets/controls",
            "_view_module_version": "1.5.0",
            "_view_name": "HTMLView",
            "description": "",
            "description_tooltip": null,
            "layout": "IPY_MODEL_97f0efeea15642ababb0c05caef82de8",
            "placeholder": "​",
            "style": "IPY_MODEL_b3b31528b8fb4b1a9582202b493a4624",
            "value": "100%"
          }
        },
        "94fba3d0efdd4fca8cd0c57f75f52d5e": {
          "model_module": "@jupyter-widgets/controls",
          "model_name": "FloatProgressModel",
          "model_module_version": "1.5.0",
          "state": {
            "_dom_classes": [],
            "_model_module": "@jupyter-widgets/controls",
            "_model_module_version": "1.5.0",
            "_model_name": "FloatProgressModel",
            "_view_count": null,
            "_view_module": "@jupyter-widgets/controls",
            "_view_module_version": "1.5.0",
            "_view_name": "ProgressView",
            "bar_style": "success",
            "description": "",
            "description_tooltip": null,
            "layout": "IPY_MODEL_4d7213963df846bda31ec7e8104e327d",
            "max": 50,
            "min": 0,
            "orientation": "horizontal",
            "style": "IPY_MODEL_ba7c5f8e0c7a45ab9f890cd07cfc8eec",
            "value": 50
          }
        },
        "2589a57555e24b8c99a424f44ef36e38": {
          "model_module": "@jupyter-widgets/controls",
          "model_name": "HTMLModel",
          "model_module_version": "1.5.0",
          "state": {
            "_dom_classes": [],
            "_model_module": "@jupyter-widgets/controls",
            "_model_module_version": "1.5.0",
            "_model_name": "HTMLModel",
            "_view_count": null,
            "_view_module": "@jupyter-widgets/controls",
            "_view_module_version": "1.5.0",
            "_view_name": "HTMLView",
            "description": "",
            "description_tooltip": null,
            "layout": "IPY_MODEL_c058d13c418b477194e288c3d49fb680",
            "placeholder": "​",
            "style": "IPY_MODEL_13095ff8469145b49cbc5064bbc5a5b2",
            "value": " 50/50 [14:11&lt;00:00, 16.91s/it]"
          }
        },
        "2a6ea8a313d0497eba6ca325d6447563": {
          "model_module": "@jupyter-widgets/base",
          "model_name": "LayoutModel",
          "model_module_version": "1.2.0",
          "state": {
            "_model_module": "@jupyter-widgets/base",
            "_model_module_version": "1.2.0",
            "_model_name": "LayoutModel",
            "_view_count": null,
            "_view_module": "@jupyter-widgets/base",
            "_view_module_version": "1.2.0",
            "_view_name": "LayoutView",
            "align_content": null,
            "align_items": null,
            "align_self": null,
            "border": null,
            "bottom": null,
            "display": null,
            "flex": null,
            "flex_flow": null,
            "grid_area": null,
            "grid_auto_columns": null,
            "grid_auto_flow": null,
            "grid_auto_rows": null,
            "grid_column": null,
            "grid_gap": null,
            "grid_row": null,
            "grid_template_areas": null,
            "grid_template_columns": null,
            "grid_template_rows": null,
            "height": null,
            "justify_content": null,
            "justify_items": null,
            "left": null,
            "margin": null,
            "max_height": null,
            "max_width": null,
            "min_height": null,
            "min_width": null,
            "object_fit": null,
            "object_position": null,
            "order": null,
            "overflow": null,
            "overflow_x": null,
            "overflow_y": null,
            "padding": null,
            "right": null,
            "top": null,
            "visibility": null,
            "width": null
          }
        },
        "97f0efeea15642ababb0c05caef82de8": {
          "model_module": "@jupyter-widgets/base",
          "model_name": "LayoutModel",
          "model_module_version": "1.2.0",
          "state": {
            "_model_module": "@jupyter-widgets/base",
            "_model_module_version": "1.2.0",
            "_model_name": "LayoutModel",
            "_view_count": null,
            "_view_module": "@jupyter-widgets/base",
            "_view_module_version": "1.2.0",
            "_view_name": "LayoutView",
            "align_content": null,
            "align_items": null,
            "align_self": null,
            "border": null,
            "bottom": null,
            "display": null,
            "flex": null,
            "flex_flow": null,
            "grid_area": null,
            "grid_auto_columns": null,
            "grid_auto_flow": null,
            "grid_auto_rows": null,
            "grid_column": null,
            "grid_gap": null,
            "grid_row": null,
            "grid_template_areas": null,
            "grid_template_columns": null,
            "grid_template_rows": null,
            "height": null,
            "justify_content": null,
            "justify_items": null,
            "left": null,
            "margin": null,
            "max_height": null,
            "max_width": null,
            "min_height": null,
            "min_width": null,
            "object_fit": null,
            "object_position": null,
            "order": null,
            "overflow": null,
            "overflow_x": null,
            "overflow_y": null,
            "padding": null,
            "right": null,
            "top": null,
            "visibility": null,
            "width": null
          }
        },
        "b3b31528b8fb4b1a9582202b493a4624": {
          "model_module": "@jupyter-widgets/controls",
          "model_name": "DescriptionStyleModel",
          "model_module_version": "1.5.0",
          "state": {
            "_model_module": "@jupyter-widgets/controls",
            "_model_module_version": "1.5.0",
            "_model_name": "DescriptionStyleModel",
            "_view_count": null,
            "_view_module": "@jupyter-widgets/base",
            "_view_module_version": "1.2.0",
            "_view_name": "StyleView",
            "description_width": ""
          }
        },
        "4d7213963df846bda31ec7e8104e327d": {
          "model_module": "@jupyter-widgets/base",
          "model_name": "LayoutModel",
          "model_module_version": "1.2.0",
          "state": {
            "_model_module": "@jupyter-widgets/base",
            "_model_module_version": "1.2.0",
            "_model_name": "LayoutModel",
            "_view_count": null,
            "_view_module": "@jupyter-widgets/base",
            "_view_module_version": "1.2.0",
            "_view_name": "LayoutView",
            "align_content": null,
            "align_items": null,
            "align_self": null,
            "border": null,
            "bottom": null,
            "display": null,
            "flex": null,
            "flex_flow": null,
            "grid_area": null,
            "grid_auto_columns": null,
            "grid_auto_flow": null,
            "grid_auto_rows": null,
            "grid_column": null,
            "grid_gap": null,
            "grid_row": null,
            "grid_template_areas": null,
            "grid_template_columns": null,
            "grid_template_rows": null,
            "height": null,
            "justify_content": null,
            "justify_items": null,
            "left": null,
            "margin": null,
            "max_height": null,
            "max_width": null,
            "min_height": null,
            "min_width": null,
            "object_fit": null,
            "object_position": null,
            "order": null,
            "overflow": null,
            "overflow_x": null,
            "overflow_y": null,
            "padding": null,
            "right": null,
            "top": null,
            "visibility": null,
            "width": null
          }
        },
        "ba7c5f8e0c7a45ab9f890cd07cfc8eec": {
          "model_module": "@jupyter-widgets/controls",
          "model_name": "ProgressStyleModel",
          "model_module_version": "1.5.0",
          "state": {
            "_model_module": "@jupyter-widgets/controls",
            "_model_module_version": "1.5.0",
            "_model_name": "ProgressStyleModel",
            "_view_count": null,
            "_view_module": "@jupyter-widgets/base",
            "_view_module_version": "1.2.0",
            "_view_name": "StyleView",
            "bar_color": null,
            "description_width": ""
          }
        },
        "c058d13c418b477194e288c3d49fb680": {
          "model_module": "@jupyter-widgets/base",
          "model_name": "LayoutModel",
          "model_module_version": "1.2.0",
          "state": {
            "_model_module": "@jupyter-widgets/base",
            "_model_module_version": "1.2.0",
            "_model_name": "LayoutModel",
            "_view_count": null,
            "_view_module": "@jupyter-widgets/base",
            "_view_module_version": "1.2.0",
            "_view_name": "LayoutView",
            "align_content": null,
            "align_items": null,
            "align_self": null,
            "border": null,
            "bottom": null,
            "display": null,
            "flex": null,
            "flex_flow": null,
            "grid_area": null,
            "grid_auto_columns": null,
            "grid_auto_flow": null,
            "grid_auto_rows": null,
            "grid_column": null,
            "grid_gap": null,
            "grid_row": null,
            "grid_template_areas": null,
            "grid_template_columns": null,
            "grid_template_rows": null,
            "height": null,
            "justify_content": null,
            "justify_items": null,
            "left": null,
            "margin": null,
            "max_height": null,
            "max_width": null,
            "min_height": null,
            "min_width": null,
            "object_fit": null,
            "object_position": null,
            "order": null,
            "overflow": null,
            "overflow_x": null,
            "overflow_y": null,
            "padding": null,
            "right": null,
            "top": null,
            "visibility": null,
            "width": null
          }
        },
        "13095ff8469145b49cbc5064bbc5a5b2": {
          "model_module": "@jupyter-widgets/controls",
          "model_name": "DescriptionStyleModel",
          "model_module_version": "1.5.0",
          "state": {
            "_model_module": "@jupyter-widgets/controls",
            "_model_module_version": "1.5.0",
            "_model_name": "DescriptionStyleModel",
            "_view_count": null,
            "_view_module": "@jupyter-widgets/base",
            "_view_module_version": "1.2.0",
            "_view_name": "StyleView",
            "description_width": ""
          }
        },
        "821ad00ac6264f6fbe77994e3a8b9bd3": {
          "model_module": "@jupyter-widgets/controls",
          "model_name": "HBoxModel",
          "model_module_version": "1.5.0",
          "state": {
            "_dom_classes": [],
            "_model_module": "@jupyter-widgets/controls",
            "_model_module_version": "1.5.0",
            "_model_name": "HBoxModel",
            "_view_count": null,
            "_view_module": "@jupyter-widgets/controls",
            "_view_module_version": "1.5.0",
            "_view_name": "HBoxView",
            "box_style": "",
            "children": [
              "IPY_MODEL_267998b0dfff4a7a8ebbf7007611376e",
              "IPY_MODEL_bb3b217510e044d986bcfc36100087d4",
              "IPY_MODEL_32666656bf184b3f8261fdbaed270b16"
            ],
            "layout": "IPY_MODEL_d339d9a2a3fc43d180ac1211919b132a"
          }
        },
        "267998b0dfff4a7a8ebbf7007611376e": {
          "model_module": "@jupyter-widgets/controls",
          "model_name": "HTMLModel",
          "model_module_version": "1.5.0",
          "state": {
            "_dom_classes": [],
            "_model_module": "@jupyter-widgets/controls",
            "_model_module_version": "1.5.0",
            "_model_name": "HTMLModel",
            "_view_count": null,
            "_view_module": "@jupyter-widgets/controls",
            "_view_module_version": "1.5.0",
            "_view_name": "HTMLView",
            "description": "",
            "description_tooltip": null,
            "layout": "IPY_MODEL_d74c05727c7649b4ab3e644d43725529",
            "placeholder": "​",
            "style": "IPY_MODEL_acbdca9d25bf494190c2aa6c43711a7d",
            "value": "100%"
          }
        },
        "bb3b217510e044d986bcfc36100087d4": {
          "model_module": "@jupyter-widgets/controls",
          "model_name": "FloatProgressModel",
          "model_module_version": "1.5.0",
          "state": {
            "_dom_classes": [],
            "_model_module": "@jupyter-widgets/controls",
            "_model_module_version": "1.5.0",
            "_model_name": "FloatProgressModel",
            "_view_count": null,
            "_view_module": "@jupyter-widgets/controls",
            "_view_module_version": "1.5.0",
            "_view_name": "ProgressView",
            "bar_style": "success",
            "description": "",
            "description_tooltip": null,
            "layout": "IPY_MODEL_dd28e50c569e4ab898a15c4528b92a3b",
            "max": 50,
            "min": 0,
            "orientation": "horizontal",
            "style": "IPY_MODEL_e508c030d26e47139b422430de740623",
            "value": 50
          }
        },
        "32666656bf184b3f8261fdbaed270b16": {
          "model_module": "@jupyter-widgets/controls",
          "model_name": "HTMLModel",
          "model_module_version": "1.5.0",
          "state": {
            "_dom_classes": [],
            "_model_module": "@jupyter-widgets/controls",
            "_model_module_version": "1.5.0",
            "_model_name": "HTMLModel",
            "_view_count": null,
            "_view_module": "@jupyter-widgets/controls",
            "_view_module_version": "1.5.0",
            "_view_name": "HTMLView",
            "description": "",
            "description_tooltip": null,
            "layout": "IPY_MODEL_189564cc9cf344e1863947ec7a44344e",
            "placeholder": "​",
            "style": "IPY_MODEL_088759e965d94834b7fd3c1e4f2f8215",
            "value": " 50/50 [13:57&lt;00:00, 16.57s/it]"
          }
        },
        "d339d9a2a3fc43d180ac1211919b132a": {
          "model_module": "@jupyter-widgets/base",
          "model_name": "LayoutModel",
          "model_module_version": "1.2.0",
          "state": {
            "_model_module": "@jupyter-widgets/base",
            "_model_module_version": "1.2.0",
            "_model_name": "LayoutModel",
            "_view_count": null,
            "_view_module": "@jupyter-widgets/base",
            "_view_module_version": "1.2.0",
            "_view_name": "LayoutView",
            "align_content": null,
            "align_items": null,
            "align_self": null,
            "border": null,
            "bottom": null,
            "display": null,
            "flex": null,
            "flex_flow": null,
            "grid_area": null,
            "grid_auto_columns": null,
            "grid_auto_flow": null,
            "grid_auto_rows": null,
            "grid_column": null,
            "grid_gap": null,
            "grid_row": null,
            "grid_template_areas": null,
            "grid_template_columns": null,
            "grid_template_rows": null,
            "height": null,
            "justify_content": null,
            "justify_items": null,
            "left": null,
            "margin": null,
            "max_height": null,
            "max_width": null,
            "min_height": null,
            "min_width": null,
            "object_fit": null,
            "object_position": null,
            "order": null,
            "overflow": null,
            "overflow_x": null,
            "overflow_y": null,
            "padding": null,
            "right": null,
            "top": null,
            "visibility": null,
            "width": null
          }
        },
        "d74c05727c7649b4ab3e644d43725529": {
          "model_module": "@jupyter-widgets/base",
          "model_name": "LayoutModel",
          "model_module_version": "1.2.0",
          "state": {
            "_model_module": "@jupyter-widgets/base",
            "_model_module_version": "1.2.0",
            "_model_name": "LayoutModel",
            "_view_count": null,
            "_view_module": "@jupyter-widgets/base",
            "_view_module_version": "1.2.0",
            "_view_name": "LayoutView",
            "align_content": null,
            "align_items": null,
            "align_self": null,
            "border": null,
            "bottom": null,
            "display": null,
            "flex": null,
            "flex_flow": null,
            "grid_area": null,
            "grid_auto_columns": null,
            "grid_auto_flow": null,
            "grid_auto_rows": null,
            "grid_column": null,
            "grid_gap": null,
            "grid_row": null,
            "grid_template_areas": null,
            "grid_template_columns": null,
            "grid_template_rows": null,
            "height": null,
            "justify_content": null,
            "justify_items": null,
            "left": null,
            "margin": null,
            "max_height": null,
            "max_width": null,
            "min_height": null,
            "min_width": null,
            "object_fit": null,
            "object_position": null,
            "order": null,
            "overflow": null,
            "overflow_x": null,
            "overflow_y": null,
            "padding": null,
            "right": null,
            "top": null,
            "visibility": null,
            "width": null
          }
        },
        "acbdca9d25bf494190c2aa6c43711a7d": {
          "model_module": "@jupyter-widgets/controls",
          "model_name": "DescriptionStyleModel",
          "model_module_version": "1.5.0",
          "state": {
            "_model_module": "@jupyter-widgets/controls",
            "_model_module_version": "1.5.0",
            "_model_name": "DescriptionStyleModel",
            "_view_count": null,
            "_view_module": "@jupyter-widgets/base",
            "_view_module_version": "1.2.0",
            "_view_name": "StyleView",
            "description_width": ""
          }
        },
        "dd28e50c569e4ab898a15c4528b92a3b": {
          "model_module": "@jupyter-widgets/base",
          "model_name": "LayoutModel",
          "model_module_version": "1.2.0",
          "state": {
            "_model_module": "@jupyter-widgets/base",
            "_model_module_version": "1.2.0",
            "_model_name": "LayoutModel",
            "_view_count": null,
            "_view_module": "@jupyter-widgets/base",
            "_view_module_version": "1.2.0",
            "_view_name": "LayoutView",
            "align_content": null,
            "align_items": null,
            "align_self": null,
            "border": null,
            "bottom": null,
            "display": null,
            "flex": null,
            "flex_flow": null,
            "grid_area": null,
            "grid_auto_columns": null,
            "grid_auto_flow": null,
            "grid_auto_rows": null,
            "grid_column": null,
            "grid_gap": null,
            "grid_row": null,
            "grid_template_areas": null,
            "grid_template_columns": null,
            "grid_template_rows": null,
            "height": null,
            "justify_content": null,
            "justify_items": null,
            "left": null,
            "margin": null,
            "max_height": null,
            "max_width": null,
            "min_height": null,
            "min_width": null,
            "object_fit": null,
            "object_position": null,
            "order": null,
            "overflow": null,
            "overflow_x": null,
            "overflow_y": null,
            "padding": null,
            "right": null,
            "top": null,
            "visibility": null,
            "width": null
          }
        },
        "e508c030d26e47139b422430de740623": {
          "model_module": "@jupyter-widgets/controls",
          "model_name": "ProgressStyleModel",
          "model_module_version": "1.5.0",
          "state": {
            "_model_module": "@jupyter-widgets/controls",
            "_model_module_version": "1.5.0",
            "_model_name": "ProgressStyleModel",
            "_view_count": null,
            "_view_module": "@jupyter-widgets/base",
            "_view_module_version": "1.2.0",
            "_view_name": "StyleView",
            "bar_color": null,
            "description_width": ""
          }
        },
        "189564cc9cf344e1863947ec7a44344e": {
          "model_module": "@jupyter-widgets/base",
          "model_name": "LayoutModel",
          "model_module_version": "1.2.0",
          "state": {
            "_model_module": "@jupyter-widgets/base",
            "_model_module_version": "1.2.0",
            "_model_name": "LayoutModel",
            "_view_count": null,
            "_view_module": "@jupyter-widgets/base",
            "_view_module_version": "1.2.0",
            "_view_name": "LayoutView",
            "align_content": null,
            "align_items": null,
            "align_self": null,
            "border": null,
            "bottom": null,
            "display": null,
            "flex": null,
            "flex_flow": null,
            "grid_area": null,
            "grid_auto_columns": null,
            "grid_auto_flow": null,
            "grid_auto_rows": null,
            "grid_column": null,
            "grid_gap": null,
            "grid_row": null,
            "grid_template_areas": null,
            "grid_template_columns": null,
            "grid_template_rows": null,
            "height": null,
            "justify_content": null,
            "justify_items": null,
            "left": null,
            "margin": null,
            "max_height": null,
            "max_width": null,
            "min_height": null,
            "min_width": null,
            "object_fit": null,
            "object_position": null,
            "order": null,
            "overflow": null,
            "overflow_x": null,
            "overflow_y": null,
            "padding": null,
            "right": null,
            "top": null,
            "visibility": null,
            "width": null
          }
        },
        "088759e965d94834b7fd3c1e4f2f8215": {
          "model_module": "@jupyter-widgets/controls",
          "model_name": "DescriptionStyleModel",
          "model_module_version": "1.5.0",
          "state": {
            "_model_module": "@jupyter-widgets/controls",
            "_model_module_version": "1.5.0",
            "_model_name": "DescriptionStyleModel",
            "_view_count": null,
            "_view_module": "@jupyter-widgets/base",
            "_view_module_version": "1.2.0",
            "_view_name": "StyleView",
            "description_width": ""
          }
        }
      }
    }
  },
  "nbformat": 4,
  "nbformat_minor": 0
}